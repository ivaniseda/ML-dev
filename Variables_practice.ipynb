{
  "cells": [
    {
      "cell_type": "markdown",
      "metadata": {
        "id": "view-in-github",
        "colab_type": "text"
      },
      "source": [
        "<a href=\"https://colab.research.google.com/github/ivaniseda/ML-dev/blob/main/Variables_practice.ipynb\" target=\"_parent\"><img src=\"https://colab.research.google.com/assets/colab-badge.svg\" alt=\"Open In Colab\"/></a>"
      ]
    },
    {
      "cell_type": "markdown",
      "metadata": {
        "id": "osPqycuhQ4hD"
      },
      "source": [
        "# 1. Python"
      ]
    },
    {
      "cell_type": "markdown",
      "metadata": {
        "id": "_s04rcLVQ4hO"
      },
      "source": [
        "Recommendation: in addition to doing the exercises, we strongly suggest that you test and modify the code in this notebook. The best way to learn is by doing, 'breaking' the code and trying to understand why it stopped working. There is nothing irreversible, do not be afraid! You can always re-download the notebook!"
      ]
    },
    {
      "cell_type": "markdown",
      "metadata": {
        "id": "kg81027uQ4hQ"
      },
      "source": [
        "## Variables\n",
        "\n",
        "By creating a variable you are giving an object a name. Each variable must have a name through which we will refer to it, the names must be unique and, as far as possible, be as explicit as possible to avoid confusion.\n",
        "\n",
        "Using the = assigns a value to a variable. It is not a mathematical/logical equal."
      ]
    },
    {
      "cell_type": "code",
      "execution_count": null,
      "metadata": {
        "id": "V2eslGOAQ4hS",
        "outputId": "bdc80de3-535f-4d33-c057-23cd83512a24"
      },
      "outputs": [
        {
          "name": "stdout",
          "output_type": "stream",
          "text": [
            "35\n",
            "1.7\n",
            "36.7\n",
            "Hello!\n"
          ]
        }
      ],
      "source": [
        "x = 35\n",
        "print(x)\n",
        "\n",
        "y = 1.7\n",
        "print(y)\n",
        "\n",
        "z = x + y\n",
        "print(z)\n",
        "\n",
        "my_text = 'Hello!'\n",
        "print(my_text)"
      ]
    },
    {
      "cell_type": "markdown",
      "metadata": {
        "id": "nJg3b3OlQ4hW"
      },
      "source": [
        "**TODO:** What is the difference in the following cell"
      ]
    },
    {
      "cell_type": "code",
      "execution_count": null,
      "metadata": {
        "id": "_75xxSqLQ4hY"
      },
      "outputs": [],
      "source": [
        "print(18.8)\n",
        "print('18.8')"
      ]
    },
    {
      "cell_type": "markdown",
      "metadata": {
        "id": "zNJkqeU6Q4hZ"
      },
      "source": [
        "**TODO:** How do we remove a variable that we don't want to use anymore?"
      ]
    },
    {
      "cell_type": "code",
      "execution_count": null,
      "metadata": {
        "id": "IKUXfayuQ4hb"
      },
      "outputs": [],
      "source": [
        "# To complete\n",
        "del my_"
      ]
    },
    {
      "cell_type": "markdown",
      "metadata": {
        "id": "JNFFlKxEQ4hd"
      },
      "source": [
        "## Data Types\n",
        "\n",
        "When we define a variable, depending on the content that we assign to it, it will be of a certain type. The most common data types of variables are: int, float, string and boolean."
      ]
    },
    {
      "cell_type": "markdown",
      "metadata": {
        "id": "8VsT34IVQ4hf"
      },
      "source": [
        "**TODO:** What type are the following variables?"
      ]
    },
    {
      "cell_type": "code",
      "execution_count": null,
      "metadata": {
        "id": "_74g2lw5Q4hh"
      },
      "outputs": [],
      "source": [
        "a = 42\n",
        "b = 7.8\n",
        "c = True\n",
        "t1 = 'hola'\n",
        "t2 = '523'"
      ]
    },
    {
      "cell_type": "code",
      "execution_count": null,
      "metadata": {
        "id": "hr9ZF1UjQ4hi"
      },
      "outputs": [],
      "source": [
        "# To complete"
      ]
    },
    {
      "cell_type": "markdown",
      "metadata": {
        "id": "eS-LCSwmQ4hj"
      },
      "source": [
        "**TODO:** Convert __a__ to float, __b__ to int and __c__ to string"
      ]
    },
    {
      "cell_type": "code",
      "execution_count": null,
      "metadata": {
        "id": "kpDtahwiQ4hk"
      },
      "outputs": [],
      "source": [
        "# To complete"
      ]
    },
    {
      "cell_type": "markdown",
      "metadata": {
        "id": "yJ2ht_jlQ4hm"
      },
      "source": [
        "## Operations\n",
        "\n",
        "With the variables we define, we can perform different operations. Depending on the type of variable, there are different operations available."
      ]
    },
    {
      "cell_type": "code",
      "execution_count": null,
      "metadata": {
        "id": "4RonEgwhQ4hm",
        "outputId": "10a1d240-b880-44a3-95a5-570a99844ceb"
      },
      "outputs": [
        {
          "name": "stdout",
          "output_type": "stream",
          "text": [
            "24\n",
            "16\n"
          ]
        }
      ],
      "source": [
        "a = 20\n",
        "b = 4\n",
        "print(a+b)\n",
        "print(a-b)"
      ]
    },
    {
      "cell_type": "markdown",
      "metadata": {
        "id": "MfwmgKYlQ4ho"
      },
      "source": [
        "Operations can be performed even between different types of variables"
      ]
    },
    {
      "cell_type": "code",
      "execution_count": null,
      "metadata": {
        "id": "wpxxxpNYQ4hp",
        "outputId": "2f12f69b-93d8-4628-a9b0-8e06b21bca1e"
      },
      "outputs": [
        {
          "name": "stdout",
          "output_type": "stream",
          "text": [
            "24.5\n",
            "15.5\n"
          ]
        }
      ],
      "source": [
        "a = 20\n",
        "b = 4.5\n",
        "\n",
        "c = a+b\n",
        "d = a-b\n",
        "\n",
        "print(c)\n",
        "print(d)"
      ]
    },
    {
      "cell_type": "markdown",
      "metadata": {
        "id": "9__lcdeuQ4hq"
      },
      "source": [
        "We can divide"
      ]
    },
    {
      "cell_type": "code",
      "execution_count": null,
      "metadata": {
        "id": "It9iLBZZQ4hr",
        "outputId": "3b18e82b-2cd7-4a2a-af3a-ecbaf20b4e23"
      },
      "outputs": [
        {
          "name": "stdout",
          "output_type": "stream",
          "text": [
            "3.3333333333333335\n"
          ]
        }
      ],
      "source": [
        "x = 10\n",
        "y = 3\n",
        "z = x / y\n",
        "print(z)"
      ]
    },
    {
      "cell_type": "markdown",
      "metadata": {
        "id": "ELi9e-2dQ4ht"
      },
      "source": [
        "**TODO:** Calculate the percentage that represents the value 165 over a total of 648 and store it in a variable called percentage."
      ]
    },
    {
      "cell_type": "code",
      "execution_count": null,
      "metadata": {
        "id": "ZtizI6BcQ4hu"
      },
      "outputs": [],
      "source": [
        "# To complete"
      ]
    },
    {
      "cell_type": "markdown",
      "metadata": {
        "id": "OX5IzOTsQ4hv"
      },
      "source": [
        "**TODO:** Calculate the sum and multiplication of the variables a, b and c. I.e. `a+b+c` and `a*b*c`."
      ]
    },
    {
      "cell_type": "code",
      "execution_count": null,
      "metadata": {
        "id": "aZP5FdKRQ4hw"
      },
      "outputs": [],
      "source": [
        "a = '12'\n",
        "b = '-5.75'\n",
        "c = '23.87'"
      ]
    },
    {
      "cell_type": "code",
      "execution_count": null,
      "metadata": {
        "id": "56kagoqlQ4hx"
      },
      "outputs": [],
      "source": [
        "# To complete"
      ]
    },
    {
      "cell_type": "markdown",
      "metadata": {
        "id": "TeJGerOHQ4hy"
      },
      "source": [
        "## Lists\n",
        "\n",
        "They are composed of a succession of objects in a certain order. They are defined by square brackets [], and the objects within them are separated by commas."
      ]
    },
    {
      "cell_type": "code",
      "execution_count": null,
      "metadata": {
        "id": "0YqW1I0VQ4hy",
        "outputId": "b5d8f2ae-7a20-42fc-f4ea-d57159f08b6f"
      },
      "outputs": [
        {
          "name": "stdout",
          "output_type": "stream",
          "text": [
            "[42, 10.7, True, 'Messi']\n"
          ]
        }
      ],
      "source": [
        "my_list = [42, 10.7, True, 'Messi']\n",
        "print(my_list)"
      ]
    },
    {
      "cell_type": "markdown",
      "metadata": {
        "id": "SKcUqunlQ4hz"
      },
      "source": [
        "A very common question that one asks when working with lists is how many elements does it have."
      ]
    },
    {
      "cell_type": "code",
      "execution_count": null,
      "metadata": {
        "id": "lw63KDgjQ4h0",
        "outputId": "d6a5fbdc-8b65-49c2-f0b0-0c0e5650b43d"
      },
      "outputs": [
        {
          "data": {
            "text/plain": [
              "4"
            ]
          },
          "execution_count": 14,
          "metadata": {},
          "output_type": "execute_result"
        }
      ],
      "source": [
        "len(my_list)"
      ]
    },
    {
      "cell_type": "markdown",
      "metadata": {
        "id": "ThtlfWP8Q4h1"
      },
      "source": [
        "Each element in a list is assigned a position (index) that we can use to inspect or operate on that element. Indices start at 0, and are specified by putting square brackets with the index inside after the list name:"
      ]
    },
    {
      "cell_type": "code",
      "execution_count": null,
      "metadata": {
        "id": "Yx6JzzVuQ4h1",
        "outputId": "8d8e2997-ee40-473b-8d5f-d5b100af6533"
      },
      "outputs": [
        {
          "name": "stdout",
          "output_type": "stream",
          "text": [
            "5\n",
            "6.0\n",
            "Messi\n"
          ]
        }
      ],
      "source": [
        "my_list = [5, 6.0, 'Messi',-5, False, 'Maradona', True, 100]\n",
        "\n",
        "print(my_list[0])\n",
        "print(my_list[1])\n",
        "print(my_list[2])"
      ]
    },
    {
      "cell_type": "markdown",
      "metadata": {
        "id": "GpNB9W4IQ4h2"
      },
      "source": [
        "**TODO:** print the seventh element of my_list."
      ]
    },
    {
      "cell_type": "code",
      "execution_count": null,
      "metadata": {
        "id": "yCYgBi6IQ4h2"
      },
      "outputs": [],
      "source": [
        "# To complete"
      ]
    },
    {
      "cell_type": "markdown",
      "metadata": {
        "id": "YnkXNJHIQ4h3"
      },
      "source": [
        "We can also, slice a list."
      ]
    },
    {
      "cell_type": "code",
      "execution_count": null,
      "metadata": {
        "id": "TxusDuW2Q4h3",
        "outputId": "3375ef37-7ca8-4236-9f1c-df52a17864f9"
      },
      "outputs": [
        {
          "name": "stdout",
          "output_type": "stream",
          "text": [
            "[5, 6.0, 'Messi']\n",
            "[False, 'Maradona', True, 100]\n",
            "[6.0, -5]\n"
          ]
        }
      ],
      "source": [
        "print(my_list[0:3])\n",
        "print(my_list[4:])\n",
        "print(my_list[1:5:2])"
      ]
    },
    {
      "cell_type": "markdown",
      "metadata": {
        "id": "Ry-Oxu1pQ4h4"
      },
      "source": [
        "What is the logic that governs this syntax? Play around with it a bit and see if you can figure out the rule. If not, you can also google what slicing is."
      ]
    },
    {
      "cell_type": "markdown",
      "metadata": {
        "id": "Hg3jSE5dQ4h5"
      },
      "source": [
        "We can also use negative numbers for indexing."
      ]
    },
    {
      "cell_type": "code",
      "execution_count": null,
      "metadata": {
        "id": "47lfhlN4Q4h5",
        "outputId": "2c610711-3899-4b4c-dfa2-e93d44e02566"
      },
      "outputs": [
        {
          "name": "stdout",
          "output_type": "stream",
          "text": [
            "100\n",
            "True\n",
            "5\n"
          ]
        }
      ],
      "source": [
        "print(my_list[-1])\n",
        "print(my_list[-2])\n",
        "print(my_list[-8])"
      ]
    },
    {
      "cell_type": "markdown",
      "metadata": {
        "id": "8hR3TJeRQ4h6"
      },
      "source": [
        "We can have list of lists."
      ]
    },
    {
      "cell_type": "code",
      "execution_count": null,
      "metadata": {
        "id": "PiUoO44fQ4h6",
        "outputId": "5d9d4f60-36f1-403d-931f-ef96c1013de5"
      },
      "outputs": [
        {
          "name": "stdout",
          "output_type": "stream",
          "text": [
            "[0, ['hello', 'how', 'are', 'you?'], 'Mas texto', [1, 2, 3]]\n",
            "4\n"
          ]
        }
      ],
      "source": [
        "my_list_1 = ['hello', 'how', 'are', 'you?']\n",
        "my_list_2 = [1, 2, 3]\n",
        "mother_list = [0, my_list_1, 'Mas texto', my_list_2]\n",
        "\n",
        "print(mother_list)\n",
        "print(len(mother_list))"
      ]
    },
    {
      "cell_type": "markdown",
      "metadata": {
        "id": "s1hI4BcZQ4h7"
      },
      "source": [
        "**TODO:** Taking my_list_1 from mother_list (what we just did in the previous cell), index the second element of my_list_1."
      ]
    },
    {
      "cell_type": "code",
      "execution_count": null,
      "metadata": {
        "id": "m9VAJdwPQ4h8"
      },
      "outputs": [],
      "source": [
        "# To complete"
      ]
    },
    {
      "cell_type": "markdown",
      "metadata": {
        "id": "RzsnCD3fQ4h9"
      },
      "source": [
        "Append values to a list"
      ]
    },
    {
      "cell_type": "code",
      "execution_count": null,
      "metadata": {
        "id": "Tk_sGJmOQ4h9",
        "outputId": "ea4435ff-015f-45e8-b08d-9638e4bd1b5e"
      },
      "outputs": [
        {
          "data": {
            "text/plain": [
              "0"
            ]
          },
          "execution_count": 21,
          "metadata": {},
          "output_type": "execute_result"
        }
      ],
      "source": [
        "empty_list = []\n",
        "len(empty_list)"
      ]
    },
    {
      "cell_type": "code",
      "execution_count": null,
      "metadata": {
        "id": "TFvjTQc9Q4h-",
        "outputId": "1c2ff57a-f400-433b-cc7f-234f94b06f7b"
      },
      "outputs": [
        {
          "name": "stdout",
          "output_type": "stream",
          "text": [
            "[89, 'text']\n",
            "2\n"
          ]
        }
      ],
      "source": [
        "empty_list.append(89)\n",
        "empty_list.append('text')\n",
        "print(empty_list)\n",
        "print(len(empty_list))"
      ]
    },
    {
      "cell_type": "markdown",
      "metadata": {
        "id": "QxHcfHwLQ4h_"
      },
      "source": [
        "**TODO:** What happens if they run the previous cell again and again?"
      ]
    },
    {
      "cell_type": "markdown",
      "metadata": {
        "id": "XuehTfFTQ4h_"
      },
      "source": [
        "**TODO:** Define a list and append a, b and c"
      ]
    },
    {
      "cell_type": "code",
      "execution_count": null,
      "metadata": {
        "id": "Zl632C5bQ4h_"
      },
      "outputs": [],
      "source": [
        "a = 8\n",
        "b = 'world'\n",
        "c = [12,24.5,66]"
      ]
    },
    {
      "cell_type": "code",
      "execution_count": null,
      "metadata": {
        "id": "QK2vNp-gQ4iA"
      },
      "outputs": [],
      "source": [
        "# To complete"
      ]
    },
    {
      "cell_type": "markdown",
      "metadata": {
        "id": "vSAQ8A84Q4iA"
      },
      "source": [
        "We must be careful when we copy lists and operate on it, let's see a little about what it is"
      ]
    },
    {
      "cell_type": "code",
      "execution_count": null,
      "metadata": {
        "id": "CTMaaJO-Q4iB",
        "outputId": "1accd1bd-dee0-4696-9296-663211606213"
      },
      "outputs": [
        {
          "name": "stdout",
          "output_type": "stream",
          "text": [
            "[1, 2, 3, 100] [1, 2, 3, 100]\n"
          ]
        }
      ],
      "source": [
        "list_1 = [1, 2, 3, 4]\n",
        "list_2 = list_1\n",
        "list_2[-1] = 100\n",
        "\n",
        "print(list_1, list_2)"
      ]
    },
    {
      "cell_type": "markdown",
      "metadata": {
        "id": "Y6KGIxh5Q4iB"
      },
      "source": [
        "Note that both lists have been modified! This, in general, is not what is desired. But we can do it right:"
      ]
    },
    {
      "cell_type": "code",
      "execution_count": null,
      "metadata": {
        "id": "4aBb35AwQ4iC",
        "outputId": "7bbe8341-3464-47d1-fc15-31278d616162"
      },
      "outputs": [
        {
          "name": "stdout",
          "output_type": "stream",
          "text": [
            "[1, 2, 3, 4] [1, 2, 3, 100]\n"
          ]
        }
      ],
      "source": [
        "list_1 = [1, 2, 3, 4]\n",
        "list_2 = list_1.copy()\n",
        "list_2[-1] = 100\n",
        "\n",
        "print(list_1, list_2)"
      ]
    },
    {
      "cell_type": "markdown",
      "source": [
        "Also, we can have nested lists and in that case you can go trhough the method \"deepcopy\". Let´s do it:"
      ],
      "metadata": {
        "id": "78PEe57BClt9"
      }
    },
    {
      "cell_type": "code",
      "source": [
        "import copy\n",
        "\n",
        "list_1 = [[1, 2], [3, 4]]\n",
        "list_2 = copy.deepcopy(list_1)\n",
        "list_2[-1] = 100\n",
        "\n",
        "print(list_1, list_2)"
      ],
      "metadata": {
        "colab": {
          "base_uri": "https://localhost:8080/"
        },
        "id": "RQtIb8B7Ckyp",
        "outputId": "0f58290e-9ab2-492d-a77d-e24fa5732771"
      },
      "execution_count": null,
      "outputs": [
        {
          "output_type": "stream",
          "name": "stdout",
          "text": [
            "[[1, 2], [3, 4]] [[1, 2], 100]\n"
          ]
        }
      ]
    },
    {
      "cell_type": "markdown",
      "metadata": {
        "id": "qJdXAHzqQ4iC"
      },
      "source": [
        "## Dictionaries"
      ]
    },
    {
      "cell_type": "markdown",
      "metadata": {
        "id": "ALPS_uDUQ4iD"
      },
      "source": [
        "Dictionaries in Python are a type of data structure that allows you to store an unordered set of key:value pairs, the keys being unique within the same dictionary (that is, there cannot be two elements with the same key).\n",
        "\n",
        "Let's see below an example of how we would declare a dictionary in Python in whose elements we have the Boca Juniors players of the year 2000, the key being the number of their shirt (unique key) and the value being their name:"
      ]
    },
    {
      "cell_type": "code",
      "execution_count": null,
      "metadata": {
        "id": "6Xk6OLLRQ4iD",
        "outputId": "49bfc8b8-bd52-4e15-f42d-65822728369b"
      },
      "outputs": [
        {
          "data": {
            "text/plain": [
              "{1: 'Córdoba',\n",
              " 4: 'Ibarra',\n",
              " 2: 'Bermúdez',\n",
              " 13: 'Traverso',\n",
              " 6: 'Matellán',\n",
              " 22: 'Battaglia',\n",
              " 5: 'Serna',\n",
              " 18: 'Basualdo',\n",
              " 10: 'Riquelme',\n",
              " 9: 'Palermo',\n",
              " 16: 'Delgado'}"
            ]
          },
          "execution_count": 27,
          "metadata": {},
          "output_type": "execute_result"
        }
      ],
      "source": [
        "players = dict()\n",
        "players = {\n",
        "    1 : \"Córdoba\", 4 : \"Ibarra\",\n",
        "    2 : \"Bermúdez\", 13 : \"Traverso\",\n",
        "    6 : \"Matellán\", 22 : \"Battaglia\",\n",
        "    5 : \"Serna\", 18 : \"Basualdo\",\n",
        "    10 : \"Riquelme\", 9 : \"Palermo\",\n",
        "    16 : \"Delgado\"\n",
        "}\n",
        "players"
      ]
    },
    {
      "cell_type": "markdown",
      "metadata": {
        "id": "mr9p3KyuQ4iE"
      },
      "source": [
        "As we can see, the dictionary is declared between the characters {} and each of the elements is separated by commas (,). We define each element with its key:value pair, which can be the key and the value of any data type ('int', 'float', 'chr', 'str', 'bool', 'object').\n",
        "\n",
        "Next we are going to loop through the dictionary and print its key:value pairs (we will see all the dictionary methods later):"
      ]
    },
    {
      "cell_type": "code",
      "execution_count": null,
      "metadata": {
        "id": "28QgzpXjQ4iF",
        "outputId": "4413809a-d976-423b-ab69-9ba815c804d5"
      },
      "outputs": [
        {
          "name": "stdout",
          "output_type": "stream",
          "text": [
            "1 -> Córdoba\n",
            "4 -> Ibarra\n",
            "2 -> Bermúdez\n",
            "13 -> Traverso\n",
            "6 -> Matellán\n",
            "22 -> Battaglia\n",
            "5 -> Serna\n",
            "18 -> Basualdo\n",
            "10 -> Riquelme\n",
            "9 -> Palermo\n",
            "16 -> Delgado\n"
          ]
        }
      ],
      "source": [
        "for k, v in players.items():\n",
        "    print(\"%s -> %s\"%(k,v))"
      ]
    },
    {
      "cell_type": "markdown",
      "metadata": {
        "id": "X2M9cbcVQ4iF"
      },
      "source": [
        "**TODO:** Print dictionary keys"
      ]
    },
    {
      "cell_type": "code",
      "execution_count": null,
      "metadata": {
        "id": "0Bbuw6K6Q4iF"
      },
      "outputs": [],
      "source": [
        "# To complete"
      ]
    },
    {
      "cell_type": "markdown",
      "metadata": {
        "id": "orOE2-qhQ4iG"
      },
      "source": [
        "**TODO:** Print dictionary values"
      ]
    },
    {
      "cell_type": "code",
      "execution_count": null,
      "metadata": {
        "id": "E-aUFTc0Q4iG"
      },
      "outputs": [],
      "source": [
        "# To complete"
      ]
    },
    {
      "cell_type": "markdown",
      "metadata": {
        "id": "OHeWcddVQ4iG"
      },
      "source": [
        "**TODO:** Insert a new player into the dictionary, 7: 'Schelotto'"
      ]
    },
    {
      "cell_type": "code",
      "execution_count": null,
      "metadata": {
        "id": "94Cs3k_1Q4iH"
      },
      "outputs": [],
      "source": [
        "# To complete"
      ]
    },
    {
      "cell_type": "markdown",
      "metadata": {
        "id": "c4x4QzRQQ4iH"
      },
      "source": [
        "**TODO:** Investigate the setdefault method"
      ]
    },
    {
      "cell_type": "code",
      "execution_count": null,
      "metadata": {
        "id": "olgN0zFhQ4iI"
      },
      "outputs": [],
      "source": [
        "# To complete"
      ]
    },
    {
      "cell_type": "markdown",
      "metadata": {
        "id": "6dgGf8bCQ4iI"
      },
      "source": [
        "**TODO:** Delete the element whose key is 22"
      ]
    },
    {
      "cell_type": "code",
      "execution_count": null,
      "metadata": {
        "id": "3IboMxyHQ4iI"
      },
      "outputs": [],
      "source": [
        "# To complete"
      ]
    },
    {
      "cell_type": "markdown",
      "metadata": {
        "id": "ZXZPZ80vQ4iJ"
      },
      "source": [
        "**TODO:** Copy the dictionary to a new dictionary"
      ]
    },
    {
      "cell_type": "code",
      "execution_count": null,
      "metadata": {
        "id": "O8wriEjAQ4iJ"
      },
      "outputs": [],
      "source": [
        "# To complete"
      ]
    },
    {
      "cell_type": "markdown",
      "metadata": {
        "id": "Xj2hnhYCQ4iJ"
      },
      "source": [
        "**TODO:** Deletes all previously copied dictionary content"
      ]
    },
    {
      "cell_type": "code",
      "execution_count": null,
      "metadata": {
        "id": "hl6qylNnQ4iK"
      },
      "outputs": [],
      "source": [
        "# To complete"
      ]
    },
    {
      "cell_type": "markdown",
      "metadata": {
        "id": "NIzCRej0Q4iK"
      },
      "source": [
        "**TODO:** Check that keys 2 and 8 exist in the players dictionary"
      ]
    },
    {
      "cell_type": "code",
      "execution_count": null,
      "metadata": {
        "id": "do2PPxIoQ4iK"
      },
      "outputs": [],
      "source": [
        "# To complete"
      ]
    },
    {
      "cell_type": "markdown",
      "metadata": {
        "id": "ErvXe3dFQ4iL"
      },
      "source": [
        "Another very useful method; is the items() method that returns the elements of the dictionaries in tuples, in which in each of them the key is in the first position and the value in the second.\n",
        "\n",
        "**TODO**: Using items() iterate over the dictionary and print each key:value pair from the dictionary"
      ]
    },
    {
      "cell_type": "code",
      "execution_count": null,
      "metadata": {
        "id": "f-y-p2VtQ4iL"
      },
      "outputs": [],
      "source": [
        "# To complete"
      ]
    },
    {
      "cell_type": "markdown",
      "metadata": {
        "id": "fntSuzgXQ4iL"
      },
      "source": [
        "Finally we are going to see the update(dict) method that will allow us to join the elements of two dictionaries. This method inserts into the dictionary those elements of the dictionary passed to it as a parameter, whose keys are not in the dictionary.\n",
        "\n",
        "**TODO:**\n",
        "Create a dictionary with substitute players (no matter the names or numbers, you can invent them) and add those players to the original dictionary."
      ]
    },
    {
      "cell_type": "code",
      "execution_count": null,
      "metadata": {
        "id": "XI7HySuJQ4iM"
      },
      "outputs": [],
      "source": [
        "# To complete"
      ]
    },
    {
      "cell_type": "markdown",
      "metadata": {
        "id": "XLIFMRr-Q4iM"
      },
      "source": [
        "## Sets\n",
        "\n",
        "A set is created by placing all the items (elements) inside curly braces {}, separated by comma, or by using the built-in set() function.\n",
        "\n",
        "It can have any number of items and they may be of different types (integer, float, tuple, string etc.). But a set cannot have mutable elements like lists, sets or dictionaries as its elements."
      ]
    },
    {
      "cell_type": "code",
      "execution_count": null,
      "metadata": {
        "id": "mPkQHL40Q4iM"
      },
      "outputs": [],
      "source": [
        "A = {'python', 'pandas', 'numpy', 'matplotlib', 'csv', 'reports', 'sql', 'cloud'} # tools/skills for DS/ML\n",
        "B = {'python', 'cloud', 'java', 'ruby', 'sql', 'jacascript'} # tools/skills for Backend"
      ]
    },
    {
      "cell_type": "markdown",
      "metadata": {
        "id": "7ocOcf4cQ4iN"
      },
      "source": [
        "If we want to obtain the union of both sets of skills we can generate the union of the sets"
      ]
    },
    {
      "cell_type": "code",
      "execution_count": null,
      "metadata": {
        "id": "4M6whC_aQ4iN",
        "outputId": "35dcdc88-e313-4ad9-a614-a6ff060c6f23"
      },
      "outputs": [
        {
          "data": {
            "text/plain": [
              "{'cloud',\n",
              " 'csv',\n",
              " 'jacascript',\n",
              " 'java',\n",
              " 'matplotlib',\n",
              " 'numpy',\n",
              " 'pandas',\n",
              " 'python',\n",
              " 'reports',\n",
              " 'ruby',\n",
              " 'sql'}"
            ]
          },
          "execution_count": 40,
          "metadata": {},
          "output_type": "execute_result"
        }
      ],
      "source": [
        "A.union(B)"
      ]
    },
    {
      "cell_type": "markdown",
      "metadata": {
        "id": "ebN14zaQQ4iO"
      },
      "source": [
        "**TODO:** What are the skills shared by both jobs?"
      ]
    },
    {
      "cell_type": "code",
      "execution_count": null,
      "metadata": {
        "id": "cG2w9PsHQ4iP"
      },
      "outputs": [],
      "source": [
        "# To complete"
      ]
    },
    {
      "cell_type": "markdown",
      "metadata": {
        "id": "KdhepyfCQ4iP"
      },
      "source": [
        "**TODO:** What skills correspond to a DS position but not to a Backend position?"
      ]
    },
    {
      "cell_type": "code",
      "execution_count": null,
      "metadata": {
        "id": "J-N8zgtbQ4iQ"
      },
      "outputs": [],
      "source": [
        "# To complete"
      ]
    },
    {
      "cell_type": "markdown",
      "metadata": {
        "id": "AwuKEbOsQ4iR"
      },
      "source": [
        "**TODO:** What skills correspond to a Backend position but not to a DS position?"
      ]
    },
    {
      "cell_type": "code",
      "execution_count": null,
      "metadata": {
        "id": "IJnCfpcmQ4iR"
      },
      "outputs": [],
      "source": [
        "# To complete"
      ]
    },
    {
      "cell_type": "markdown",
      "metadata": {
        "id": "es6_wpFgQ4iS"
      },
      "source": [
        "## Loops"
      ]
    },
    {
      "cell_type": "markdown",
      "metadata": {
        "id": "0Ff6PuNzQ4iS"
      },
      "source": [
        "In general, when we are programming, we want to repeat an operation several times. For example, applying an operation to the elements of a list. If the list has many elements, it can be cumbersome to write the application of that operation to each element one by one, so we need some code structure that facilitates that syntax.\n",
        "\n",
        "Loops are fundamental code structures in any programming language. They consist of blocks of code that are repeated a certain number of times given a condition. There are two basic ways to create loops, for statements and while statements."
      ]
    },
    {
      "cell_type": "markdown",
      "metadata": {
        "id": "J-w_xmyaQ4iT"
      },
      "source": [
        "### For"
      ]
    },
    {
      "cell_type": "code",
      "execution_count": null,
      "metadata": {
        "id": "NB4DEbUWQ4iT",
        "outputId": "cdb92856-5cac-4eda-d60d-6bf65ebff83a"
      },
      "outputs": [
        {
          "name": "stdout",
          "output_type": "stream",
          "text": [
            "3\n",
            "55\n",
            "1\n",
            "876\n",
            "12\n"
          ]
        }
      ],
      "source": [
        "list_numbers = [3, 55, 1, 876, 12]\n",
        "\n",
        "for n in list_numbers:\n",
        "    print(n)"
      ]
    },
    {
      "cell_type": "markdown",
      "metadata": {
        "id": "jlvaZ4rbQ4iU"
      },
      "source": [
        "Pay particular attention that the code \"inside\" the for is indented. In some programming languages, indentation is used to order the code, making it more readable. In Python, however, it is required. It is achieved with four spaces or a tab."
      ]
    },
    {
      "cell_type": "code",
      "execution_count": null,
      "metadata": {
        "id": "tocvn4nkQ4iU",
        "outputId": "75b4f190-2164-4f56-ffff-7bed8b35e3c8"
      },
      "outputs": [
        {
          "name": "stdout",
          "output_type": "stream",
          "text": [
            "3 1\n",
            "55 2\n",
            "1 3\n",
            "876 4\n",
            "12 5\n"
          ]
        }
      ],
      "source": [
        "list_numbers = [3, 55, 1, 876, 12]\n",
        "i = 0\n",
        "\n",
        "for n in list_numbers:\n",
        "    i = i + 1\n",
        "    print(n, i)"
      ]
    },
    {
      "cell_type": "code",
      "execution_count": null,
      "metadata": {
        "id": "DOiZfLRvQ4iV",
        "outputId": "08bae90a-4ea7-4d63-d2f5-6c75f1db86d9"
      },
      "outputs": [
        {
          "name": "stdout",
          "output_type": "stream",
          "text": [
            "['My name is Martin', 'My name is Juan', 'My name is Ana']\n"
          ]
        }
      ],
      "source": [
        "list_names = ['Martin', 'Juan', 'Ana']\n",
        "new_list = []\n",
        "\n",
        "for item in list_names:\n",
        "    sentence = 'My name is ' + item\n",
        "    new_list.append(sentence)\n",
        "\n",
        "print(new_list)"
      ]
    },
    {
      "cell_type": "markdown",
      "metadata": {
        "id": "EG9LUGhRQ4iV"
      },
      "source": [
        "**TODO:**\n",
        "\n",
        "If we have a list of numbers, for example the first ten natural numbers, and we try to add a fixed number to the list, for example 5, we may try something similar to the following:"
      ]
    },
    {
      "cell_type": "code",
      "execution_count": null,
      "metadata": {
        "id": "SPhzB9L3Q4iW",
        "outputId": "aada0cd9-4db7-46ba-88a5-0048bf315a86"
      },
      "outputs": [
        {
          "ename": "TypeError",
          "evalue": "can only concatenate list (not \"int\") to list",
          "output_type": "error",
          "traceback": [
            "\u001b[1;31m---------------------------------------------------------------------------\u001b[0m",
            "\u001b[1;31mTypeError\u001b[0m                                 Traceback (most recent call last)",
            "\u001b[1;32m<ipython-input-47-13deab6bee71>\u001b[0m in \u001b[0;36m<module>\u001b[1;34m\u001b[0m\n\u001b[0;32m      1\u001b[0m \u001b[0mnumbers\u001b[0m \u001b[1;33m=\u001b[0m \u001b[1;33m[\u001b[0m\u001b[1;36m0\u001b[0m\u001b[1;33m,\u001b[0m \u001b[1;36m1\u001b[0m\u001b[1;33m,\u001b[0m \u001b[1;36m2\u001b[0m\u001b[1;33m,\u001b[0m \u001b[1;36m3\u001b[0m\u001b[1;33m,\u001b[0m \u001b[1;36m4\u001b[0m\u001b[1;33m,\u001b[0m \u001b[1;36m5\u001b[0m\u001b[1;33m,\u001b[0m \u001b[1;36m6\u001b[0m\u001b[1;33m,\u001b[0m \u001b[1;36m7\u001b[0m\u001b[1;33m,\u001b[0m \u001b[1;36m8\u001b[0m\u001b[1;33m,\u001b[0m \u001b[1;36m9\u001b[0m\u001b[1;33m]\u001b[0m\u001b[1;33m\u001b[0m\u001b[1;33m\u001b[0m\u001b[0m\n\u001b[1;32m----> 2\u001b[1;33m \u001b[0mprint\u001b[0m\u001b[1;33m(\u001b[0m\u001b[0mnumbers\u001b[0m \u001b[1;33m+\u001b[0m \u001b[1;36m3\u001b[0m\u001b[1;33m)\u001b[0m\u001b[1;33m\u001b[0m\u001b[1;33m\u001b[0m\u001b[0m\n\u001b[0m",
            "\u001b[1;31mTypeError\u001b[0m: can only concatenate list (not \"int\") to list"
          ]
        }
      ],
      "source": [
        "numbers = [0, 1, 2, 3, 4, 5, 6, 7, 8, 9]\n",
        "print(numbers + 3)"
      ]
    },
    {
      "cell_type": "markdown",
      "metadata": {
        "id": "cV0R7_PUQ4iW"
      },
      "source": [
        "We get an error! (Note that the option to Google the error on Stack Overflow this time is more informative).\n",
        "So, we suggest you solve the following exercises:\n",
        "\n",
        "* Create a routine that adds three to the first ten natural numbers and prints on the screen as it does so.\n",
        "* Create a routine that adds three to the first ten natural numbers and saves the results in a new list. At the end, print that list on screen."
      ]
    },
    {
      "cell_type": "code",
      "execution_count": null,
      "metadata": {
        "id": "BKKgEAHiQ4iX",
        "outputId": "9860cbb3-b7db-4ebb-9b78-4a7f74e9280f"
      },
      "outputs": [
        {
          "name": "stdout",
          "output_type": "stream",
          "text": [
            "3\n",
            "4\n",
            "5\n",
            "6\n",
            "7\n",
            "8\n",
            "9\n",
            "10\n",
            "11\n",
            "12\n"
          ]
        }
      ],
      "source": [
        "numbers = [0, 1, 2, 3, 4, 5, 6, 7, 8, 9]\n",
        "for number in numbers:\n",
        "    print(number + 3)"
      ]
    },
    {
      "cell_type": "code",
      "execution_count": null,
      "metadata": {
        "id": "-xl3vlG3Q4iX",
        "outputId": "03e99534-bdeb-4d2f-d88a-f0486e9a2fdd"
      },
      "outputs": [
        {
          "name": "stdout",
          "output_type": "stream",
          "text": [
            "[3, 4, 5, 6, 7, 8, 9, 10, 11, 12]\n"
          ]
        }
      ],
      "source": [
        "numbers = [0, 1, 2, 3, 4, 5, 6, 7, 8, 9]\n",
        "results = []\n",
        "for number in numbers:\n",
        "    results.append(number + 3)\n",
        "print(results)"
      ]
    },
    {
      "cell_type": "markdown",
      "metadata": {
        "id": "HQDYvjX1Q4iY"
      },
      "source": [
        "**TODO:** Repeat the same but now for the first 100 natural numbers. Don't manually write the full list, use `range`."
      ]
    },
    {
      "cell_type": "code",
      "execution_count": null,
      "metadata": {
        "id": "2t7Bt7MqQ4iY"
      },
      "outputs": [],
      "source": [
        "# To complete"
      ]
    },
    {
      "cell_type": "markdown",
      "metadata": {
        "id": "w_2W8LhFQ4iY"
      },
      "source": [
        "**TODO:** Generate a list called my_list that contains the square of each element in the numbers list"
      ]
    },
    {
      "cell_type": "code",
      "execution_count": null,
      "metadata": {
        "id": "Lals_4qxQ4iZ"
      },
      "outputs": [],
      "source": [
        "numbers = [3, 1, 5, 7, 12, 10, 17, 4, 22]"
      ]
    },
    {
      "cell_type": "code",
      "execution_count": null,
      "metadata": {
        "id": "KQrN6oIXQ4iZ"
      },
      "outputs": [],
      "source": [
        "# To complete"
      ]
    },
    {
      "cell_type": "markdown",
      "metadata": {
        "id": "5g7SwcOCQ4iZ"
      },
      "source": [
        "**TODO:** Add all the elements of the following list"
      ]
    },
    {
      "cell_type": "code",
      "execution_count": null,
      "metadata": {
        "id": "tsYkCRKdQ4ia"
      },
      "outputs": [],
      "source": [
        "numbers = [4, 8, 3, 1, -3, 3, -5, 1, 2, -8]"
      ]
    },
    {
      "cell_type": "code",
      "execution_count": null,
      "metadata": {
        "id": "bfsx2zf3Q4ia"
      },
      "outputs": [],
      "source": [
        "# To complete"
      ]
    },
    {
      "cell_type": "markdown",
      "metadata": {
        "id": "neMJGiuzQ4ia"
      },
      "source": [
        "**TODO:** Print the table from 1 to 9"
      ]
    },
    {
      "cell_type": "code",
      "execution_count": null,
      "metadata": {
        "id": "nGBdW87CQ4ib"
      },
      "outputs": [],
      "source": [
        "# To complete"
      ]
    },
    {
      "cell_type": "markdown",
      "metadata": {
        "id": "0dOgCQ5UQ4ib"
      },
      "source": [
        "### While\n",
        "\n",
        "Python While Loop is used to execute a block of statements repeatedly until a given condition is satisfied."
      ]
    },
    {
      "cell_type": "code",
      "execution_count": null,
      "metadata": {
        "id": "EPQg_6v9Q4ic",
        "outputId": "035d912b-9c2e-41c6-9820-d41238b1b329"
      },
      "outputs": [
        {
          "name": "stdout",
          "output_type": "stream",
          "text": [
            "1\n",
            "2\n",
            "3\n",
            "4\n",
            "5\n",
            "6\n",
            "7\n"
          ]
        }
      ],
      "source": [
        "count = 0\n",
        "while count < 7:\n",
        "    count = count + 1\n",
        "    print(count)"
      ]
    },
    {
      "cell_type": "markdown",
      "metadata": {
        "id": "c7zr74CEQ4ic"
      },
      "source": [
        "**TODO:** Using python's input() function, create a loop that prints the characters the user enters, until the char __z__ is detected."
      ]
    },
    {
      "cell_type": "code",
      "execution_count": null,
      "metadata": {
        "id": "EMqK6l-pQ4id"
      },
      "outputs": [],
      "source": [
        "# To complete"
      ]
    },
    {
      "cell_type": "markdown",
      "metadata": {
        "id": "13SZWJ3nQ4id"
      },
      "source": [
        "**TODO:** Using an input build a program that allows a user to enter only positive numbers and add them up. When the user sends the number 0, the program ends and shows the total sum of the numbers entered."
      ]
    },
    {
      "cell_type": "code",
      "execution_count": null,
      "metadata": {
        "id": "xmnXOBgMQ4ie"
      },
      "outputs": [],
      "source": [
        "# To complete"
      ]
    },
    {
      "cell_type": "markdown",
      "metadata": {
        "id": "RBa52AgcQ4ie"
      },
      "source": [
        "#### History of chess\n",
        "\n",
        "When the creator of the game of chess showed his invention to the king of a far Eastern country, the latter was so pleased that he gave the inventor the right to decide for himself what his reward would be for such a creation. The man, who was very wise, asked the king something that at first appeared to be quite humble: that for the first square on the chessboard, he should receive one grain of wheat, two for the second, four for the third, and so on, doubling the amount each time.\n",
        "\n",
        "**TODO:** The chessboard has 64 squares, using a while show how many grains of wheat the creator would charge for each square that the board has"
      ]
    },
    {
      "cell_type": "code",
      "execution_count": null,
      "metadata": {
        "id": "0bFYN7rQQ4if"
      },
      "outputs": [],
      "source": [
        "# To complete"
      ]
    },
    {
      "cell_type": "markdown",
      "metadata": {
        "id": "biNyKH76Q4ig"
      },
      "source": [
        "## if/elif/else\n",
        "\n",
        "**TODO:** Using if, elif and else validate check if the variable `number` is positive, negative or equal to 0."
      ]
    },
    {
      "cell_type": "code",
      "execution_count": null,
      "metadata": {
        "id": "nS57m3NZQ4ih"
      },
      "outputs": [],
      "source": [
        "# You can change this variable to check different numbers\n",
        "number = -1\n",
        "\n",
        "# To complete"
      ]
    },
    {
      "cell_type": "markdown",
      "metadata": {
        "id": "kKXBY0nxQ4ih"
      },
      "source": [
        "**TODO:** Through an if compare the two variables (`age_1`, `age_2`) and show the highest value\n"
      ]
    },
    {
      "cell_type": "code",
      "execution_count": null,
      "metadata": {
        "id": "qQiStxamQ4ih"
      },
      "outputs": [],
      "source": [
        "age_1 = 10\n",
        "age_2 = 20\n",
        "\n",
        "# To complete"
      ]
    },
    {
      "cell_type": "markdown",
      "metadata": {
        "id": "QflDz7iYQ4ir"
      },
      "source": [
        "**TODO:** Validate through an if if the value stored in the `even_validation` variable is even or odd"
      ]
    },
    {
      "cell_type": "code",
      "execution_count": null,
      "metadata": {
        "id": "jhv5IpeiQ4ir"
      },
      "outputs": [],
      "source": [
        "even_validation = 19\n",
        "\n",
        "# To complete"
      ]
    },
    {
      "cell_type": "markdown",
      "metadata": {
        "id": "27f3YIHVQ4is"
      },
      "source": [
        "**TODO:** Compare the 3 variables (a, b, c) so that it returns which is the largest value. In case all 3 values are equal, return the message 'All values are equal'.\n",
        "\n",
        "Make different tests to show that A is greater, that B is greater, that C is greater and that the 3 are equal."
      ]
    },
    {
      "cell_type": "code",
      "execution_count": null,
      "metadata": {
        "id": "g0kE-JPwQ4is"
      },
      "outputs": [],
      "source": [
        "# To complete"
      ]
    },
    {
      "cell_type": "markdown",
      "metadata": {
        "id": "7_hubQ3XQ4it"
      },
      "source": [
        "**TODO:** Validate what type of data the variable is, returning the message 'It's a number' or 'It's a string' depending on the case. Swap values from string to numeric in the data_type variable to test if it works correctly."
      ]
    },
    {
      "cell_type": "code",
      "execution_count": null,
      "metadata": {
        "id": "ZeST2_qcQ4it"
      },
      "outputs": [],
      "source": [
        "# To complete\n",
        "input_var = 100.0\n",
        "\n",
        "# code\n",
        "\n"
      ]
    },
    {
      "cell_type": "markdown",
      "metadata": {
        "id": "xXvA72R-Q4it"
      },
      "source": [
        "**TODO:** Let's go with something a little more complicated.\n",
        "\n",
        "* Check if the variable number is a multiple of 2\n",
        "* If it is a multiple of 2, check if it is a multiple of 4.\n",
        "* If it is a multiple of 2, validate if it is a multiple of 6\n",
        "* And if it is a multiple of 4, validate if it is a multiple of 6"
      ]
    },
    {
      "cell_type": "code",
      "execution_count": null,
      "metadata": {
        "id": "Db2diBGzQ4iu"
      },
      "outputs": [],
      "source": [
        "# To complete"
      ]
    },
    {
      "cell_type": "markdown",
      "metadata": {
        "id": "kQTFbOd8Q4iv"
      },
      "source": [
        "**TODO:** Investigate how to do a REDUCED IF (or inline if).\n",
        "\n",
        "Once that is done, create a greeting variable that is equal to a reduced if that validates the language variable and shows by message 'HELLO' if the language is Spanish or 'HI' if the language is English"
      ]
    },
    {
      "cell_type": "code",
      "execution_count": null,
      "metadata": {
        "id": "UYbx3FCyQ4iw"
      },
      "outputs": [],
      "source": [
        "# To complete"
      ]
    },
    {
      "cell_type": "markdown",
      "metadata": {
        "id": "zz8eWQxBQ4iw"
      },
      "source": [
        "**TODO:** Investigate how to know if a value is inside a list\n",
        "\n",
        "Using the vowel list check with an IF if the value of the letter variable is inside the list. If this show by message 'It's a vowel'. If it is not show by message 'It is not a vowel'"
      ]
    },
    {
      "cell_type": "code",
      "execution_count": null,
      "metadata": {
        "id": "PYN2W4rMQ4ix"
      },
      "outputs": [],
      "source": [
        "vowel = ['a','e','i','o','u','á','é','í','ó','ú']\n",
        "letter = 'o'"
      ]
    },
    {
      "cell_type": "code",
      "execution_count": null,
      "metadata": {
        "id": "27Be1AxXQ4iy"
      },
      "outputs": [],
      "source": [
        "# To complete"
      ]
    },
    {
      "cell_type": "markdown",
      "metadata": {
        "id": "vgaw7sJYQ4iy"
      },
      "source": [
        "## Functions\n",
        "\n",
        "**TODO:** Create 4 functions and each one receives parameter 2 values\n",
        "* my_sum\n",
        "* my_subtraction\n",
        "* my_division\n",
        "* my_multiplication\n",
        "\n",
        "To each function add a description so that it can be seen when using help(). Explain in the description how to use the function and which values it accepts and which it does not. Validate in the function that the values received are integers, otherwise return a message saying \"Verify the data entered, both have to be integers\".\n",
        "\n",
        "Addition, subtraction and multiplication will be similar, but division has something different, validate that the dividend is not 0 or otherwise display the message \"The divisor cannot be zero\"."
      ]
    },
    {
      "cell_type": "code",
      "execution_count": null,
      "metadata": {
        "id": "0_KVejG4Q4iz"
      },
      "outputs": [],
      "source": [
        "# To complete"
      ]
    },
    {
      "cell_type": "code",
      "execution_count": null,
      "metadata": {
        "id": "iAHx4E1fQ4i0"
      },
      "outputs": [],
      "source": [
        "my_sum(13, 45)\n",
        "my_subtraction(1000, 545)\n",
        "my_division(200, 10)\n",
        "my_multiplication(10, 4343)"
      ]
    },
    {
      "cell_type": "code",
      "source": [],
      "metadata": {
        "id": "BSPsSgOmdIcA"
      },
      "execution_count": null,
      "outputs": []
    }
  ],
  "metadata": {
    "colab": {
      "collapsed_sections": [
        "TeJGerOHQ4hy",
        "qJdXAHzqQ4iC",
        "XLIFMRr-Q4iM",
        "es6_wpFgQ4iS",
        "J-w_xmyaQ4iT",
        "0dOgCQ5UQ4ib",
        "RBa52AgcQ4ie",
        "biNyKH76Q4ig"
      ],
      "provenance": [],
      "include_colab_link": true
    },
    "kernelspec": {
      "display_name": "Python 3 (ipykernel)",
      "language": "python",
      "name": "python3"
    },
    "language_info": {
      "codemirror_mode": {
        "name": "ipython",
        "version": 3
      },
      "file_extension": ".py",
      "mimetype": "text/x-python",
      "name": "python",
      "nbconvert_exporter": "python",
      "pygments_lexer": "ipython3",
      "version": "3.9.7"
    }
  },
  "nbformat": 4,
  "nbformat_minor": 0
}