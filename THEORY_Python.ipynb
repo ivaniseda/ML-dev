{
  "cells": [
    {
      "cell_type": "markdown",
      "metadata": {
        "id": "view-in-github",
        "colab_type": "text"
      },
      "source": [
        "<a href=\"https://colab.research.google.com/github/ivaniseda/ML-dev/blob/main/THEORY_Python.ipynb\" target=\"_parent\"><img src=\"https://colab.research.google.com/assets/colab-badge.svg\" alt=\"Open In Colab\"/></a>"
      ]
    },
    {
      "cell_type": "markdown",
      "metadata": {
        "id": "8DE03-NNZWRa"
      },
      "source": [
        "# 1. Python"
      ]
    },
    {
      "cell_type": "markdown",
      "metadata": {
        "id": "OweybZgAZWRc"
      },
      "source": [
        "## 1.1. Basic data types"
      ]
    },
    {
      "cell_type": "markdown",
      "metadata": {
        "id": "2NSnuMn9ZWRd"
      },
      "source": [
        "### With type() you can see the type of a variable"
      ]
    },
    {
      "cell_type": "code",
      "execution_count": null,
      "metadata": {
        "id": "v3qy4C7dZWRd",
        "outputId": "a14b5268-a168-434c-8165-17fbfbdf95d3"
      },
      "outputs": [
        {
          "data": {
            "text/plain": [
              "int"
            ]
          },
          "execution_count": 1,
          "metadata": {},
          "output_type": "execute_result"
        }
      ],
      "source": [
        "variable = 2\n",
        "type(variable)"
      ]
    },
    {
      "cell_type": "code",
      "execution_count": null,
      "metadata": {
        "id": "sMS-aZS7ZWRe",
        "outputId": "a6d571d3-7856-4e4f-bf2b-e33037aed5db"
      },
      "outputs": [
        {
          "data": {
            "text/plain": [
              "float"
            ]
          },
          "execution_count": 2,
          "metadata": {},
          "output_type": "execute_result"
        }
      ],
      "source": [
        "variable = 2.5\n",
        "type(variable)"
      ]
    },
    {
      "cell_type": "code",
      "execution_count": null,
      "metadata": {
        "id": "xeBuanWbZWRf",
        "outputId": "4341232b-8433-4f08-8a44-fd029fdaf701"
      },
      "outputs": [
        {
          "data": {
            "text/plain": [
              "str"
            ]
          },
          "execution_count": 3,
          "metadata": {},
          "output_type": "execute_result"
        }
      ],
      "source": [
        "variable = 'This is a string' # you can use \"\" or ''\n",
        "type(variable)"
      ]
    },
    {
      "cell_type": "code",
      "execution_count": null,
      "metadata": {
        "id": "Z3J01WdbZWRf",
        "outputId": "afd9b8bd-7385-4006-b7e0-b1559050104c"
      },
      "outputs": [
        {
          "data": {
            "text/plain": [
              "str"
            ]
          },
          "execution_count": 4,
          "metadata": {},
          "output_type": "execute_result"
        }
      ],
      "source": [
        "variable = \"s\"\n",
        "type(variable)"
      ]
    },
    {
      "cell_type": "code",
      "execution_count": null,
      "metadata": {
        "id": "OX08SCWIZWRg",
        "outputId": "a9d78f1b-3fe3-4a7e-927a-6e5a554b4bb3"
      },
      "outputs": [
        {
          "data": {
            "text/plain": [
              "complex"
            ]
          },
          "execution_count": 5,
          "metadata": {},
          "output_type": "execute_result"
        }
      ],
      "source": [
        "variable = 2 + 3j # If you don't know what a complex number is, you can go to: https://en.wikipedia.org/wiki/Complex_number\n",
        "type(variable)"
      ]
    },
    {
      "cell_type": "code",
      "execution_count": null,
      "metadata": {
        "id": "qk-258k_ZWRg",
        "outputId": "7d7898ef-c63a-4c1e-a807-d9e903a62c75"
      },
      "outputs": [
        {
          "data": {
            "text/plain": [
              "bool"
            ]
          },
          "execution_count": 6,
          "metadata": {},
          "output_type": "execute_result"
        }
      ],
      "source": [
        "type(3 < 2)"
      ]
    },
    {
      "cell_type": "markdown",
      "metadata": {
        "id": "Q_ZdCTAqZWRg"
      },
      "source": [
        "## 1.2. Variables and operators\n",
        "\n",
        "### Numeric Type"
      ]
    },
    {
      "cell_type": "code",
      "execution_count": null,
      "metadata": {
        "colab": {
          "base_uri": "https://localhost:8080/"
        },
        "id": "cBc7PQ9aZWRh",
        "outputId": "1a17bb8f-2cbb-4f4f-d80d-6b6267c506f3"
      },
      "outputs": [
        {
          "data": {
            "text/plain": [
              "33.333333333333336"
            ]
          },
          "execution_count": 7,
          "metadata": {},
          "output_type": "execute_result"
        }
      ],
      "source": [
        "a = 100\n",
        "b = 3\n",
        "a / b # Note that there is no need to write print(), only applicable to a jupyter notebook"
      ]
    },
    {
      "cell_type": "code",
      "execution_count": null,
      "metadata": {
        "id": "fy5Vc5QmZWRh",
        "outputId": "4ae355a9-4a62-4c6e-e6c0-a2e7d93f0820"
      },
      "outputs": [
        {
          "data": {
            "text/plain": [
              "33"
            ]
          },
          "execution_count": 8,
          "metadata": {},
          "output_type": "execute_result"
        }
      ],
      "source": [
        "a = 100\n",
        "b = 3\n",
        "a // b # Division (floor)"
      ]
    },
    {
      "cell_type": "code",
      "execution_count": null,
      "metadata": {
        "id": "9Qtbzdc5ZWRh",
        "outputId": "eb2b7d3c-c814-4ec2-cb6c-60bf4f518fcd"
      },
      "outputs": [
        {
          "data": {
            "text/plain": [
              "1"
            ]
          },
          "execution_count": 9,
          "metadata": {},
          "output_type": "execute_result"
        }
      ],
      "source": [
        "a = 100\n",
        "b = 3\n",
        "a % b # Modulo operation"
      ]
    },
    {
      "cell_type": "code",
      "execution_count": null,
      "metadata": {
        "id": "9JDGwPRYZWRi",
        "outputId": "c1d18d69-f225-4e01-8222-39aa6d336b47"
      },
      "outputs": [
        {
          "data": {
            "text/plain": [
              "(33, 1)"
            ]
          },
          "execution_count": 10,
          "metadata": {},
          "output_type": "execute_result"
        }
      ],
      "source": [
        "a = 100\n",
        "b = 3\n",
        "divmod(a, b) # Return quotient and remainder"
      ]
    },
    {
      "cell_type": "code",
      "execution_count": null,
      "metadata": {
        "id": "-jlAc8yrZWRi",
        "outputId": "ce9d109f-2050-485b-d28e-a04e4a4b3de2"
      },
      "outputs": [
        {
          "data": {
            "text/plain": [
              "(1-3j)"
            ]
          },
          "execution_count": 11,
          "metadata": {},
          "output_type": "execute_result"
        }
      ],
      "source": [
        "a = 1 + 3j\n",
        "a.conjugate()"
      ]
    },
    {
      "cell_type": "code",
      "execution_count": null,
      "metadata": {
        "id": "E5m9Z4YCZWRi",
        "outputId": "ba78adab-b543-46fb-b6b8-9f1e6c91e22d"
      },
      "outputs": [
        {
          "data": {
            "text/plain": [
              "1000"
            ]
          },
          "execution_count": 12,
          "metadata": {},
          "output_type": "execute_result"
        }
      ],
      "source": [
        "a = 10\n",
        "pow(a, 3) # Return 10^3"
      ]
    },
    {
      "cell_type": "markdown",
      "metadata": {
        "id": "iwkF3faFZWRj"
      },
      "source": [
        "### String Type"
      ]
    },
    {
      "cell_type": "markdown",
      "metadata": {
        "id": "sXs6oyTtZWRj"
      },
      "source": [
        "#### String Concatenation"
      ]
    },
    {
      "cell_type": "code",
      "execution_count": 1,
      "metadata": {
        "id": "Ml_chA8mZWRj",
        "outputId": "f8e7906b-5549-4e79-e4e1-8d56a824cbc9",
        "colab": {
          "base_uri": "https://localhost:8080/",
          "height": 0
        }
      },
      "outputs": [
        {
          "output_type": "execute_result",
          "data": {
            "text/plain": [
              "'I love pythonMy name is Louis'"
            ],
            "application/vnd.google.colaboratory.intrinsic+json": {
              "type": "string"
            }
          },
          "metadata": {},
          "execution_count": 1
        }
      ],
      "source": [
        "my_string1 = 'I love python'\n",
        "my_string2 = 'My name is Louis'\n",
        "\n",
        "my_string1 + my_string2 # Notice that there is no space between the concatenated strings"
      ]
    },
    {
      "cell_type": "code",
      "execution_count": 2,
      "metadata": {
        "id": "-8WnF3HDZWRj",
        "outputId": "6b68826d-3e7c-41f9-ee1f-5366bce759e3",
        "colab": {
          "base_uri": "https://localhost:8080/",
          "height": 0
        }
      },
      "outputs": [
        {
          "output_type": "execute_result",
          "data": {
            "text/plain": [
              "'I love python My name is Louis'"
            ],
            "application/vnd.google.colaboratory.intrinsic+json": {
              "type": "string"
            }
          },
          "metadata": {},
          "execution_count": 2
        }
      ],
      "source": [
        "my_string1 + ' ' + my_string2 # Now we add the space"
      ]
    },
    {
      "cell_type": "code",
      "execution_count": 3,
      "metadata": {
        "id": "DsEjIAzVZWRj",
        "outputId": "9c444c27-b6b4-4c59-faa4-af6895689ecb",
        "colab": {
          "base_uri": "https://localhost:8080/",
          "height": 0
        }
      },
      "outputs": [
        {
          "output_type": "execute_result",
          "data": {
            "text/plain": [
              "'I love python and My name is Louis'"
            ],
            "application/vnd.google.colaboratory.intrinsic+json": {
              "type": "string"
            }
          },
          "metadata": {},
          "execution_count": 3
        }
      ],
      "source": [
        "my_string1 + ' and ' + my_string2"
      ]
    },
    {
      "cell_type": "code",
      "execution_count": 4,
      "metadata": {
        "id": "1fjAEZ_aZWRk",
        "outputId": "e08dfb37-5f9b-4ac3-8aa7-e175c380b92a",
        "colab": {
          "base_uri": "https://localhost:8080/",
          "height": 0
        }
      },
      "outputs": [
        {
          "output_type": "execute_result",
          "data": {
            "text/plain": [
              "'I love pythonI love pythonI love pythonI love pythonI love pythonI love pythonI love pythonI love pythonI love pythonI love python'"
            ],
            "application/vnd.google.colaboratory.intrinsic+json": {
              "type": "string"
            }
          },
          "metadata": {},
          "execution_count": 4
        }
      ],
      "source": [
        "my_string1 * 10 # Repeat a string n times"
      ]
    },
    {
      "cell_type": "code",
      "execution_count": 5,
      "metadata": {
        "id": "zLo8QaeGZWRk",
        "outputId": "a77d7cf4-a7e3-4d23-a2e9-c07491159d94",
        "colab": {
          "base_uri": "https://localhost:8080/",
          "height": 0
        }
      },
      "outputs": [
        {
          "output_type": "execute_result",
          "data": {
            "text/plain": [
              "'I love python I love python I love python I love python I love python I love python I love python I love python I love python I love python '"
            ],
            "application/vnd.google.colaboratory.intrinsic+json": {
              "type": "string"
            }
          },
          "metadata": {},
          "execution_count": 5
        }
      ],
      "source": [
        "(f'{my_string1} ') * 10"
      ]
    },
    {
      "cell_type": "code",
      "execution_count": 6,
      "metadata": {
        "id": "vhvhj6byZgf4"
      },
      "outputs": [],
      "source": [
        "a = [1]\n",
        "b = a"
      ]
    },
    {
      "cell_type": "code",
      "execution_count": 7,
      "metadata": {
        "id": "uxvtrabQZgf4",
        "outputId": "6504dafc-3c22-4ed6-8580-00b3dc255ce1",
        "colab": {
          "base_uri": "https://localhost:8080/"
        }
      },
      "outputs": [
        {
          "output_type": "execute_result",
          "data": {
            "text/plain": [
              "True"
            ]
          },
          "metadata": {},
          "execution_count": 7
        }
      ],
      "source": [
        "a is b"
      ]
    },
    {
      "cell_type": "code",
      "execution_count": 8,
      "metadata": {
        "id": "31S4mqV0Zgf4",
        "outputId": "dbec3780-f5f1-4ff4-ab53-92e91208f5c2",
        "colab": {
          "base_uri": "https://localhost:8080/"
        }
      },
      "outputs": [
        {
          "output_type": "execute_result",
          "data": {
            "text/plain": [
              "True"
            ]
          },
          "metadata": {},
          "execution_count": 8
        }
      ],
      "source": [
        "a == b"
      ]
    },
    {
      "cell_type": "markdown",
      "metadata": {
        "id": "EioV3vEEZWRk"
      },
      "source": [
        "#### Lower, Capitalize and Upper"
      ]
    },
    {
      "cell_type": "code",
      "execution_count": 9,
      "metadata": {
        "id": "_1vN6TFOZWRk",
        "outputId": "4eed0eeb-9f81-4ea2-d252-6d54cab4214c",
        "colab": {
          "base_uri": "https://localhost:8080/",
          "height": 0
        }
      },
      "outputs": [
        {
          "output_type": "execute_result",
          "data": {
            "text/plain": [
              "'my name is louis'"
            ],
            "application/vnd.google.colaboratory.intrinsic+json": {
              "type": "string"
            }
          },
          "metadata": {},
          "execution_count": 9
        }
      ],
      "source": [
        "my_string2.lower() # All string to lowercase"
      ]
    },
    {
      "cell_type": "code",
      "execution_count": 10,
      "metadata": {
        "id": "Zg9sHk9kZWRk",
        "outputId": "cd7e8a5e-199e-4982-8cb5-c1084157c080",
        "colab": {
          "base_uri": "https://localhost:8080/",
          "height": 0
        }
      },
      "outputs": [
        {
          "output_type": "execute_result",
          "data": {
            "text/plain": [
              "'Hello my friend'"
            ],
            "application/vnd.google.colaboratory.intrinsic+json": {
              "type": "string"
            }
          },
          "metadata": {},
          "execution_count": 10
        }
      ],
      "source": [
        "'hello my friend'.capitalize() # First char of string to uppercase"
      ]
    },
    {
      "cell_type": "code",
      "execution_count": 11,
      "metadata": {
        "id": "427BNYYBZWRk",
        "outputId": "6e5a24eb-d325-4ed8-8d9b-f5a8a94e77cf",
        "colab": {
          "base_uri": "https://localhost:8080/",
          "height": 0
        }
      },
      "outputs": [
        {
          "output_type": "execute_result",
          "data": {
            "text/plain": [
              "'HELLO MY FRIEND'"
            ],
            "application/vnd.google.colaboratory.intrinsic+json": {
              "type": "string"
            }
          },
          "metadata": {},
          "execution_count": 11
        }
      ],
      "source": [
        "'hello my friend'.upper() # All string to uppercase"
      ]
    },
    {
      "cell_type": "markdown",
      "metadata": {
        "id": "Jv226V6IZWRl"
      },
      "source": [
        "#### Replace some substring with another string"
      ]
    },
    {
      "cell_type": "code",
      "execution_count": 12,
      "metadata": {
        "id": "pL3t9QEpZWRl",
        "outputId": "c218ad5f-6e66-4f7a-afc4-fca22263f938",
        "colab": {
          "base_uri": "https://localhost:8080/",
          "height": 0
        }
      },
      "outputs": [
        {
          "output_type": "execute_result",
          "data": {
            "text/plain": [
              "'My name is Louis'"
            ],
            "application/vnd.google.colaboratory.intrinsic+json": {
              "type": "string"
            }
          },
          "metadata": {},
          "execution_count": 12
        }
      ],
      "source": [
        "my_name = my_string2.replace('Luois', 'Martin') # Replace 'Louis' with 'Martin' on the original string\n",
        "my_name"
      ]
    },
    {
      "cell_type": "markdown",
      "metadata": {
        "id": "C2r2uMypZWRl"
      },
      "source": [
        "#### Find the occurrence of a substring"
      ]
    },
    {
      "cell_type": "code",
      "execution_count": 13,
      "metadata": {
        "id": "DyJh4bLRZWRl",
        "outputId": "2630ec4a-4c9a-4b4b-9d69-1e678ac8a27c",
        "colab": {
          "base_uri": "https://localhost:8080/"
        }
      },
      "outputs": [
        {
          "output_type": "execute_result",
          "data": {
            "text/plain": [
              "7"
            ]
          },
          "metadata": {},
          "execution_count": 13
        }
      ],
      "source": [
        "my_string1.find('python') # Returns the lowest index of the substring"
      ]
    },
    {
      "cell_type": "code",
      "execution_count": 14,
      "metadata": {
        "id": "rV6CThpXZWRl",
        "outputId": "3e328a88-ebf0-451a-949a-f55d25060bb0",
        "colab": {
          "base_uri": "https://localhost:8080/"
        }
      },
      "outputs": [
        {
          "output_type": "execute_result",
          "data": {
            "text/plain": [
              "-1"
            ]
          },
          "metadata": {},
          "execution_count": 14
        }
      ],
      "source": [
        "my_string1.find('Python') # If it is not found then it returns -1"
      ]
    },
    {
      "cell_type": "code",
      "execution_count": 15,
      "metadata": {
        "id": "xRb1fJ9rZWRl",
        "outputId": "6fe98dad-6688-478c-f3f3-2033094f7461",
        "colab": {
          "base_uri": "https://localhost:8080/"
        }
      },
      "outputs": [
        {
          "output_type": "execute_result",
          "data": {
            "text/plain": [
              "7"
            ]
          },
          "metadata": {},
          "execution_count": 15
        }
      ],
      "source": [
        "my_string1.find('Python'.lower())"
      ]
    },
    {
      "cell_type": "markdown",
      "metadata": {
        "id": "GkuMjwkaZWRl"
      },
      "source": [
        "### Boolean Type"
      ]
    },
    {
      "cell_type": "code",
      "execution_count": null,
      "metadata": {
        "id": "78v6ibQXZWRl",
        "outputId": "fde79c72-d6cc-4ab1-fa28-0b47f009e926"
      },
      "outputs": [
        {
          "name": "stdout",
          "output_type": "stream",
          "text": [
            "True\n",
            "False\n",
            "False\n"
          ]
        }
      ],
      "source": [
        "x = True\n",
        "y = False\n",
        "\n",
        "print(x or y) # If you don't know anything about logic you can go to: https://en.wikipedia.org/wiki/Truth_table\n",
        "print(x and y)\n",
        "print(not x)"
      ]
    },
    {
      "cell_type": "code",
      "execution_count": null,
      "metadata": {
        "id": "yd5U1ZfcZWRm",
        "outputId": "3dc80597-4387-423d-aafc-71a901e03a71"
      },
      "outputs": [
        {
          "data": {
            "text/plain": [
              "False"
            ]
          },
          "execution_count": 26,
          "metadata": {},
          "output_type": "execute_result"
        }
      ],
      "source": [
        "1 == 0"
      ]
    },
    {
      "cell_type": "code",
      "execution_count": null,
      "metadata": {
        "id": "G23qq_Y9ZWRm",
        "outputId": "ff9b7757-c4c7-4f20-d650-53245a161559"
      },
      "outputs": [
        {
          "data": {
            "text/plain": [
              "True"
            ]
          },
          "execution_count": 27,
          "metadata": {},
          "output_type": "execute_result"
        }
      ],
      "source": [
        "not (1 == 0)"
      ]
    },
    {
      "cell_type": "code",
      "execution_count": null,
      "metadata": {
        "id": "pXcotUuAZWRm",
        "outputId": "8790a6ab-22e0-49dc-a087-33f4233676a0"
      },
      "outputs": [
        {
          "data": {
            "text/plain": [
              "True"
            ]
          },
          "execution_count": 28,
          "metadata": {},
          "output_type": "execute_result"
        }
      ],
      "source": [
        "x = 4\n",
        "\n",
        "type(x) is int"
      ]
    },
    {
      "cell_type": "code",
      "execution_count": null,
      "metadata": {
        "id": "MsOiUlAPZWRm",
        "outputId": "f6ff878b-c0b3-429f-ad22-39aa11d8ae72"
      },
      "outputs": [
        {
          "data": {
            "text/plain": [
              "True"
            ]
          },
          "execution_count": 29,
          "metadata": {},
          "output_type": "execute_result"
        }
      ],
      "source": [
        "10 != 0"
      ]
    },
    {
      "cell_type": "code",
      "execution_count": null,
      "metadata": {
        "id": "7oQo_Cx0ZWRm",
        "outputId": "f624e8fe-15b7-42b2-cacc-a1a673d5d64b"
      },
      "outputs": [
        {
          "data": {
            "text/plain": [
              "True"
            ]
          },
          "execution_count": 30,
          "metadata": {},
          "output_type": "execute_result"
        }
      ],
      "source": [
        "3 >= 3"
      ]
    },
    {
      "cell_type": "code",
      "execution_count": null,
      "metadata": {
        "id": "nOYso0HJZWRm",
        "outputId": "9e103125-eade-41d9-a4dc-c65179ca4a1b"
      },
      "outputs": [
        {
          "data": {
            "text/plain": [
              "True"
            ]
          },
          "execution_count": 31,
          "metadata": {},
          "output_type": "execute_result"
        }
      ],
      "source": [
        "'Python'[0] == 'P'"
      ]
    },
    {
      "cell_type": "markdown",
      "metadata": {
        "id": "opsolMw0ZWRn"
      },
      "source": [
        "## 1.3. Advanced data structures: List, Tuple, Dictionary, and Set."
      ]
    },
    {
      "cell_type": "markdown",
      "metadata": {
        "id": "YtJ4lIzYZWRn"
      },
      "source": [
        "### List"
      ]
    },
    {
      "cell_type": "markdown",
      "metadata": {
        "id": "UMB0qKk3ZWRn"
      },
      "source": [
        "#### List creation"
      ]
    },
    {
      "cell_type": "code",
      "execution_count": null,
      "metadata": {
        "id": "Oqp3Fn9CZWRn",
        "outputId": "b1ea829d-35a9-4e38-c072-83e3fc19c6ce"
      },
      "outputs": [
        {
          "name": "stdout",
          "output_type": "stream",
          "text": [
            "['Python', 'Data Science', 'Machine Learning', 'Math', 100, (3+1j), 1.1]\n",
            "<class 'list'>\n",
            "<class 'complex'>\n"
          ]
        }
      ],
      "source": [
        "my_list = [\"Python\", \"Data Science\", 'Machine Learning', 'Math', 100, 3 + 1j, 1.1]\n",
        "print(my_list)\n",
        "print(type(my_list))\n",
        "print(type(my_list[5]))"
      ]
    },
    {
      "cell_type": "markdown",
      "metadata": {
        "id": "kS1E2WHVZWRn"
      },
      "source": [
        "#### Indexing a list"
      ]
    },
    {
      "cell_type": "code",
      "execution_count": null,
      "metadata": {
        "id": "xyikASd9ZWRn",
        "outputId": "ce4529c0-adb4-49da-955b-ce7aafca1def"
      },
      "outputs": [
        {
          "name": "stdout",
          "output_type": "stream",
          "text": [
            "Python\n",
            "Math\n",
            "['Data Science', 'Machine Learning']\n"
          ]
        }
      ],
      "source": [
        "my_list = [\"Python\", \"Data Science\", 'Machine Learning', 'Math']\n",
        "print(my_list[0]) #First element\n",
        "print(my_list[-1]) #Last element\n",
        "print(my_list[1:3]) #Slice list"
      ]
    },
    {
      "cell_type": "markdown",
      "metadata": {
        "id": "Vz7oDeotZWRn"
      },
      "source": [
        "#### Concat lists"
      ]
    },
    {
      "cell_type": "code",
      "execution_count": null,
      "metadata": {
        "id": "ymGDx93AZWRn",
        "outputId": "d4c0543d-f881-43d9-965d-f02d94859e1b"
      },
      "outputs": [
        {
          "name": "stdout",
          "output_type": "stream",
          "text": [
            "['Python', 'Data Science', 'Machine Learning', 'Math', 'AnyoneAI']\n"
          ]
        },
        {
          "data": {
            "text/plain": [
              "['Python rocks!', 'Data Science', 'Machine Learning', 'Math', 'AnyoneAI']"
            ]
          },
          "execution_count": 34,
          "metadata": {},
          "output_type": "execute_result"
        }
      ],
      "source": [
        "concatenation = my_list + [\"AnyoneAI\"]\n",
        "print(concatenation)\n",
        "\n",
        "concatenation[0] = \"Python rocks!\"\n",
        "concatenation"
      ]
    },
    {
      "cell_type": "markdown",
      "metadata": {
        "id": "ljuHgr2qZWRn"
      },
      "source": [
        "#### Append value to a list"
      ]
    },
    {
      "cell_type": "code",
      "execution_count": null,
      "metadata": {
        "id": "rih92r_eZWRo",
        "outputId": "93f2afda-8303-40cd-c5b7-f578a2516825"
      },
      "outputs": [
        {
          "data": {
            "text/plain": [
              "['Python', 'Data Science', 'Machine Learning', 'Math', 'Data rules!', 10]"
            ]
          },
          "execution_count": 35,
          "metadata": {},
          "output_type": "execute_result"
        }
      ],
      "source": [
        "my_list = [\"Python\", \"Data Science\", 'Machine Learning', 'Math']\n",
        "my_list.append(\"Data rules!\")\n",
        "my_list.append(10)\n",
        "my_list"
      ]
    },
    {
      "cell_type": "markdown",
      "metadata": {
        "id": "Qx_ET1ekZWRo"
      },
      "source": [
        "#### Replace"
      ]
    },
    {
      "cell_type": "code",
      "execution_count": null,
      "metadata": {
        "id": "cmzHY1ZGZWRo",
        "outputId": "64d2aea6-7bfb-4e02-86be-1640eee94597"
      },
      "outputs": [
        {
          "data": {
            "text/plain": [
              "['Python', 'DS', 'ML', 'Math']"
            ]
          },
          "execution_count": 36,
          "metadata": {},
          "output_type": "execute_result"
        }
      ],
      "source": [
        "my_list = [\"Python\", \"Data Science\", 'Machine Learning', 'Math']\n",
        "my_list[1:3] = ['DS', 'ML']\n",
        "my_list"
      ]
    },
    {
      "cell_type": "markdown",
      "metadata": {
        "id": "AgZC-pFHZWRo"
      },
      "source": [
        "#### Delete"
      ]
    },
    {
      "cell_type": "code",
      "execution_count": null,
      "metadata": {
        "id": "JagOpIDnZWRo",
        "outputId": "470102fb-851e-4f3c-ba08-4d07f7ea3b14"
      },
      "outputs": [
        {
          "name": "stdout",
          "output_type": "stream",
          "text": [
            "['Python', 'DS', 'ML', 'Math']\n"
          ]
        },
        {
          "data": {
            "text/plain": [
              "['Python']"
            ]
          },
          "execution_count": 37,
          "metadata": {},
          "output_type": "execute_result"
        }
      ],
      "source": [
        "print(my_list)\n",
        "my_list[1:4] = []\n",
        "my_list"
      ]
    },
    {
      "cell_type": "markdown",
      "metadata": {
        "id": "UykqBADYZWRo"
      },
      "source": [
        "#### List length"
      ]
    },
    {
      "cell_type": "code",
      "execution_count": null,
      "metadata": {
        "id": "2Iy5zTHlZWRo",
        "outputId": "fdee566e-4c47-4a92-fc8a-57fbc565108e"
      },
      "outputs": [
        {
          "data": {
            "text/plain": [
              "4"
            ]
          },
          "execution_count": 38,
          "metadata": {},
          "output_type": "execute_result"
        }
      ],
      "source": [
        "my_list = [\"Python\", \"Data Science\", 'Machine Learning', 'Math']\n",
        "len(my_list)"
      ]
    },
    {
      "cell_type": "markdown",
      "metadata": {
        "id": "yPRZiLuWZWRo"
      },
      "source": [
        "#### Nested list"
      ]
    },
    {
      "cell_type": "code",
      "execution_count": null,
      "metadata": {
        "id": "MxwUd-8iZWRp",
        "outputId": "500fff7b-0e5a-4e44-9e5d-a8b0db58ba58"
      },
      "outputs": [
        {
          "name": "stdout",
          "output_type": "stream",
          "text": [
            "[['Martin', 'Juan'], [9, 10]]\n",
            "Juan\n"
          ]
        }
      ],
      "source": [
        "list_1 = ['Martin', 'Juan']\n",
        "list_2 = [9, 10]\n",
        "list_Final = [list_1, list_2]\n",
        "print(list_Final)\n",
        "print(list_Final[0][1])"
      ]
    },
    {
      "cell_type": "markdown",
      "metadata": {
        "id": "2uU2KygUZWRp"
      },
      "source": [
        "### Tuple"
      ]
    },
    {
      "cell_type": "code",
      "execution_count": null,
      "metadata": {
        "id": "3HX_SPoFZWRp",
        "outputId": "aa595bd3-cf93-4b84-8e52-4232d1537c34"
      },
      "outputs": [
        {
          "data": {
            "text/plain": [
              "tuple"
            ]
          },
          "execution_count": 40,
          "metadata": {},
          "output_type": "execute_result"
        }
      ],
      "source": [
        "names = ('Juan', 'Pablo', 'Martin', 'Peter')\n",
        "type(names)"
      ]
    },
    {
      "cell_type": "code",
      "execution_count": null,
      "metadata": {
        "id": "SpsoHsitZWRp",
        "outputId": "9cef64c9-3a31-4df0-e3bd-1f7f9309ad8f"
      },
      "outputs": [
        {
          "data": {
            "text/plain": [
              "tuple"
            ]
          },
          "execution_count": 41,
          "metadata": {},
          "output_type": "execute_result"
        }
      ],
      "source": [
        "names = 'Juan', 'Pablo', 'Martin', 'Peter'\n",
        "type(names)"
      ]
    },
    {
      "cell_type": "code",
      "execution_count": null,
      "metadata": {
        "id": "EVLhQUt0ZWRp",
        "outputId": "a2fe5be6-3d6b-4d85-b63b-9fa28b4fb81d"
      },
      "outputs": [
        {
          "name": "stdout",
          "output_type": "stream",
          "text": [
            "<class 'str'>\n",
            "<class 'tuple'>\n"
          ]
        }
      ],
      "source": [
        "names_1 = 'Juan'\n",
        "names_2 = 'Juan',\n",
        "\n",
        "print(type(names_1))\n",
        "print(type(names_2))"
      ]
    },
    {
      "cell_type": "markdown",
      "metadata": {
        "id": "0hg4WI8fZWRp"
      },
      "source": [
        "#### We can create tuples from different structures such as lists, sets, etc."
      ]
    },
    {
      "cell_type": "code",
      "execution_count": null,
      "metadata": {
        "id": "QgTFb5HlZWRp",
        "outputId": "cc75a907-ed9d-4c01-ff99-1407ec6f4cdd"
      },
      "outputs": [
        {
          "data": {
            "text/plain": [
              "tuple"
            ]
          },
          "execution_count": 43,
          "metadata": {},
          "output_type": "execute_result"
        }
      ],
      "source": [
        "tpl = tuple([1,2,3,4,5])\n",
        "type(tpl)"
      ]
    },
    {
      "cell_type": "code",
      "execution_count": null,
      "metadata": {
        "id": "jL2hFX8nZWRp",
        "outputId": "da603774-2ebe-4c78-bb4c-718b59d545ca"
      },
      "outputs": [
        {
          "data": {
            "text/plain": [
              "tuple"
            ]
          },
          "execution_count": 44,
          "metadata": {},
          "output_type": "execute_result"
        }
      ],
      "source": [
        "tpl = tuple({1,2,3,4,5})\n",
        "type(tpl)"
      ]
    },
    {
      "cell_type": "markdown",
      "metadata": {
        "id": "7wpsle_gZWRp"
      },
      "source": [
        "#### Concatenate"
      ]
    },
    {
      "cell_type": "code",
      "execution_count": null,
      "metadata": {
        "id": "DT3AoJUAZWRq",
        "outputId": "0b59f7be-83d1-4665-9f53-b2fe16a6c8ec"
      },
      "outputs": [
        {
          "data": {
            "text/plain": [
              "(1, 2, 3, 4, 5, 6, 7, 8, 9)"
            ]
          },
          "execution_count": 45,
          "metadata": {},
          "output_type": "execute_result"
        }
      ],
      "source": [
        "t1 = 1, 2, 3, 4,\n",
        "t2 = 5, 6, 7, 8, 9,\n",
        "\n",
        "t1 + t2"
      ]
    },
    {
      "cell_type": "code",
      "execution_count": null,
      "metadata": {
        "id": "XSwtNwPYZWRq",
        "outputId": "96a4e718-4f2a-42e8-f667-cae88a18de57"
      },
      "outputs": [
        {
          "data": {
            "text/plain": [
              "(1, 2, 3, 4, 1, 2, 3, 4, 1, 2, 3, 4, 1, 2, 3, 4)"
            ]
          },
          "execution_count": 46,
          "metadata": {},
          "output_type": "execute_result"
        }
      ],
      "source": [
        "t1 = 1, 2, 3, 4,\n",
        "t1 * 4"
      ]
    },
    {
      "cell_type": "markdown",
      "metadata": {
        "id": "vFrhIRQgZWRq"
      },
      "source": [
        "#### Indexing"
      ]
    },
    {
      "cell_type": "code",
      "execution_count": null,
      "metadata": {
        "id": "NMyUwUpgZWRq",
        "outputId": "537b6d46-2970-4576-9cdb-9fa0caaea4ae"
      },
      "outputs": [
        {
          "data": {
            "text/plain": [
              "4"
            ]
          },
          "execution_count": 47,
          "metadata": {},
          "output_type": "execute_result"
        }
      ],
      "source": [
        "t1 = 1, 2, 3, 4,\n",
        "t1[3]"
      ]
    },
    {
      "cell_type": "markdown",
      "metadata": {
        "id": "tP2oDgkeZWRq"
      },
      "source": [
        "#### Sciling"
      ]
    },
    {
      "cell_type": "code",
      "execution_count": null,
      "metadata": {
        "id": "cE3wBMQeZWRq",
        "outputId": "f8a99c38-81ee-41b4-f01d-47b6b608bc65"
      },
      "outputs": [
        {
          "data": {
            "text/plain": [
              "(2, 3, 4, 'hello')"
            ]
          },
          "execution_count": 48,
          "metadata": {},
          "output_type": "execute_result"
        }
      ],
      "source": [
        "t1 = 1, 2, 3, 4, 'hello', 'python', 12.12\n",
        "t1[1: 5]"
      ]
    },
    {
      "cell_type": "code",
      "execution_count": null,
      "metadata": {
        "id": "1v0lKV5-ZWRq",
        "outputId": "c055f026-8219-45ff-a90c-a891635b3a6e"
      },
      "outputs": [
        {
          "data": {
            "text/plain": [
              "True"
            ]
          },
          "execution_count": 49,
          "metadata": {},
          "output_type": "execute_result"
        }
      ],
      "source": [
        "t1 = 1, 2, 3, 4, 'hello', 'python', 12.12\n",
        "\n",
        "2 in t1"
      ]
    },
    {
      "cell_type": "markdown",
      "metadata": {
        "id": "vekqsmp8ZWRq"
      },
      "source": [
        "#### Tuples are immutable"
      ]
    },
    {
      "cell_type": "code",
      "execution_count": null,
      "metadata": {
        "id": "HHM-ZibNZWRq",
        "outputId": "64d8a804-1593-4e69-e68c-11b3510d773b"
      },
      "outputs": [
        {
          "ename": "TypeError",
          "evalue": "'tuple' object does not support item assignment",
          "output_type": "error",
          "traceback": [
            "\u001b[1;31m---------------------------------------------------------------------------\u001b[0m",
            "\u001b[1;31mTypeError\u001b[0m                                 Traceback (most recent call last)",
            "Input \u001b[1;32mIn [50]\u001b[0m, in \u001b[0;36m<cell line: 2>\u001b[1;34m()\u001b[0m\n\u001b[0;32m      1\u001b[0m t1 \u001b[38;5;241m=\u001b[39m (\u001b[38;5;241m1\u001b[39m, \u001b[38;5;241m2\u001b[39m, \u001b[38;5;241m3\u001b[39m, \u001b[38;5;241m4\u001b[39m, \u001b[38;5;124m'\u001b[39m\u001b[38;5;124mhello\u001b[39m\u001b[38;5;124m'\u001b[39m, \u001b[38;5;124m'\u001b[39m\u001b[38;5;124mpython\u001b[39m\u001b[38;5;124m'\u001b[39m, \u001b[38;5;241m12.12\u001b[39m)\n\u001b[1;32m----> 2\u001b[0m t1[\u001b[38;5;241m0\u001b[39m] \u001b[38;5;241m=\u001b[39m \u001b[38;5;124m'\u001b[39m\u001b[38;5;124mjava\u001b[39m\u001b[38;5;124m'\u001b[39m\n",
            "\u001b[1;31mTypeError\u001b[0m: 'tuple' object does not support item assignment"
          ]
        }
      ],
      "source": [
        "t1 = (1, 2, 3, 4, 'hello', 'python', 12.12)\n",
        "t1[0] = 'java'"
      ]
    },
    {
      "cell_type": "code",
      "execution_count": null,
      "metadata": {
        "id": "phhVU1KLZWRr",
        "outputId": "48215caf-0765-46c5-ee05-7ac624b6fd1e"
      },
      "outputs": [
        {
          "name": "stdout",
          "output_type": "stream",
          "text": [
            "(4, 22, 3, [9, 50])\n"
          ]
        }
      ],
      "source": [
        "my_tuple = (4, 22, 3, [6, 50])\n",
        "my_tuple[3][0] = 9\n",
        "\n",
        "print(my_tuple)"
      ]
    },
    {
      "cell_type": "code",
      "execution_count": null,
      "metadata": {
        "id": "To6BWHWiZWRr",
        "outputId": "d38160b6-448e-44d7-fe4d-8037b11c5a97"
      },
      "outputs": [
        {
          "ename": "TypeError",
          "evalue": "'tuple' object does not support item assignment",
          "output_type": "error",
          "traceback": [
            "\u001b[1;31m---------------------------------------------------------------------------\u001b[0m",
            "\u001b[1;31mTypeError\u001b[0m                                 Traceback (most recent call last)",
            "Input \u001b[1;32mIn [56]\u001b[0m, in \u001b[0;36m<cell line: 2>\u001b[1;34m()\u001b[0m\n\u001b[0;32m      1\u001b[0m my_tuple \u001b[38;5;241m=\u001b[39m (\u001b[38;5;241m4\u001b[39m, \u001b[38;5;241m22\u001b[39m, \u001b[38;5;241m3\u001b[39m, [\u001b[38;5;241m6\u001b[39m, \u001b[38;5;241m50\u001b[39m])\n\u001b[1;32m----> 2\u001b[0m my_tuple[\u001b[38;5;241m3\u001b[39m] \u001b[38;5;241m=\u001b[39m [\u001b[38;5;241m9\u001b[39m, \u001b[38;5;241m50\u001b[39m]\n\u001b[0;32m      4\u001b[0m \u001b[38;5;28mprint\u001b[39m(my_tuple)\n",
            "\u001b[1;31mTypeError\u001b[0m: 'tuple' object does not support item assignment"
          ]
        }
      ],
      "source": [
        "my_tuple = (4, 22, 3, [6, 50])\n",
        "my_tuple[3] = [9, 50]\n",
        "\n",
        "print(my_tuple)"
      ]
    },
    {
      "cell_type": "markdown",
      "metadata": {
        "id": "CXJ6aC4TZWRr"
      },
      "source": [
        "### Dictionary"
      ]
    },
    {
      "cell_type": "markdown",
      "metadata": {
        "id": "8dima5neZWRr"
      },
      "source": [
        "#### Dictionary creation"
      ]
    },
    {
      "cell_type": "code",
      "execution_count": null,
      "metadata": {
        "id": "4lRPb1VQZWRr",
        "outputId": "3009c1e6-6f46-4086-e3e3-963d7830f9f2"
      },
      "outputs": [
        {
          "name": "stdout",
          "output_type": "stream",
          "text": [
            "{'Name': 'Louis', 'Age': 50}\n"
          ]
        }
      ],
      "source": [
        "dicc = {}\n",
        "dicc = {\"Name\": \"Louis\", \"Age\": 50}\n",
        "print(dicc)"
      ]
    },
    {
      "cell_type": "markdown",
      "metadata": {
        "id": "Aq_J6fhPZWRr"
      },
      "source": [
        "#### Adding and deleting values"
      ]
    },
    {
      "cell_type": "code",
      "execution_count": null,
      "metadata": {
        "id": "CIHP5YVmZWRr",
        "outputId": "e62b83a3-2754-4da6-c809-df0959be36b2"
      },
      "outputs": [
        {
          "name": "stdout",
          "output_type": "stream",
          "text": [
            "{'Name': 'Louis', 'Age': 50, 'Country': 'Chile'}\n",
            "{'Name': 'Louis', 'Age': 50}\n"
          ]
        }
      ],
      "source": [
        "dicc['Country'] = \"Chile\"\n",
        "print(dicc)\n",
        "\n",
        "del dicc[\"Country\"]\n",
        "print(dicc)"
      ]
    },
    {
      "cell_type": "markdown",
      "metadata": {
        "id": "UPfxNKyuZWRr"
      },
      "source": [
        "#### Items"
      ]
    },
    {
      "cell_type": "code",
      "execution_count": null,
      "metadata": {
        "id": "ERh-MI0VZWRr",
        "outputId": "37f12797-94a9-47f3-edba-befc3217835f"
      },
      "outputs": [
        {
          "name": "stdout",
          "output_type": "stream",
          "text": [
            "dict_items([('Name', 'Louis'), ('Age', 50)])\n"
          ]
        }
      ],
      "source": [
        "print(dicc.items())"
      ]
    },
    {
      "cell_type": "markdown",
      "metadata": {
        "id": "y_GkcN_SZWRs"
      },
      "source": [
        "#### Keys"
      ]
    },
    {
      "cell_type": "code",
      "execution_count": null,
      "metadata": {
        "id": "69xNJp52ZWRs",
        "outputId": "89a76873-62b1-4293-a68d-fdab6bce9765"
      },
      "outputs": [
        {
          "name": "stdout",
          "output_type": "stream",
          "text": [
            "dict_keys(['Name', 'Age'])\n",
            "True\n"
          ]
        }
      ],
      "source": [
        "print(dicc.keys())\n",
        "print('Name' in dicc)"
      ]
    },
    {
      "cell_type": "markdown",
      "metadata": {
        "id": "NKK8j4RAZWRs"
      },
      "source": [
        "#### Values"
      ]
    },
    {
      "cell_type": "code",
      "execution_count": null,
      "metadata": {
        "id": "ohjON23PZWRs",
        "outputId": "17bc4763-51c0-4a27-b196-24a7625ff775"
      },
      "outputs": [
        {
          "name": "stdout",
          "output_type": "stream",
          "text": [
            "dict_values(['Louis', 50])\n"
          ]
        }
      ],
      "source": [
        "print(dicc.values())"
      ]
    },
    {
      "cell_type": "markdown",
      "metadata": {
        "id": "ioieuytnZWRs"
      },
      "source": [
        "#### Dictionary creation (alternative)"
      ]
    },
    {
      "cell_type": "code",
      "execution_count": null,
      "metadata": {
        "id": "rG8y3LbTZWRs",
        "outputId": "19b58c55-902c-40a3-de5f-9794c7ce7206"
      },
      "outputs": [
        {
          "name": "stdout",
          "output_type": "stream",
          "text": [
            "{'Diego': 1, 'Pepe': 2, 'Jose': 3}\n"
          ]
        }
      ],
      "source": [
        "dicc2 = dict(Diego=1, Pepe=2, Jose=3)\n",
        "print(dicc2)"
      ]
    },
    {
      "cell_type": "markdown",
      "metadata": {
        "id": "E16iUywmZWRs"
      },
      "source": [
        "#### Removing elements"
      ]
    },
    {
      "cell_type": "code",
      "execution_count": null,
      "metadata": {
        "id": "FWn223hUZWRt",
        "outputId": "ee6ec036-9b1c-4e59-908a-8c70f3cce43c"
      },
      "outputs": [
        {
          "name": "stdout",
          "output_type": "stream",
          "text": [
            "16\n"
          ]
        },
        {
          "data": {
            "text/plain": [
              "{1: 1, 2: 4, 3: 9, 5: 25}"
            ]
          },
          "execution_count": 140,
          "metadata": {},
          "output_type": "execute_result"
        }
      ],
      "source": [
        "squares = {1: 1, 2: 4, 3: 9, 4: 16, 5: 25}\n",
        "print(squares.pop(4))\n",
        "squares"
      ]
    },
    {
      "cell_type": "markdown",
      "metadata": {
        "id": "pW12jr2KZWRt"
      },
      "source": [
        "#### Update"
      ]
    },
    {
      "cell_type": "code",
      "execution_count": null,
      "metadata": {
        "id": "I1TR3e4ZZWRt",
        "outputId": "16630bb3-ba51-4ed6-ac63-802d466b0a68"
      },
      "outputs": [
        {
          "name": "stdout",
          "output_type": "stream",
          "text": [
            "{'Physics': 47, 'Maths': 97}\n",
            "{'Physics': 47, 'Maths': 97, 'English': 18}\n"
          ]
        }
      ],
      "source": [
        "marks = {'Physics': 47, 'Maths': 97}\n",
        "internal_marks = {'English': 18}\n",
        "print(marks)\n",
        "\n",
        "marks.update(internal_marks)\n",
        "print(marks)"
      ]
    },
    {
      "cell_type": "markdown",
      "metadata": {
        "id": "oPAiugpaZWRt"
      },
      "source": [
        "### Set"
      ]
    },
    {
      "cell_type": "markdown",
      "metadata": {
        "id": "VbPUkQn4ZWRt"
      },
      "source": [
        "#### Set creation"
      ]
    },
    {
      "cell_type": "code",
      "execution_count": null,
      "metadata": {
        "id": "np7DJChtZWRt",
        "outputId": "9ce2b729-f2dc-4ad5-82c8-c033db249226"
      },
      "outputs": [
        {
          "data": {
            "text/plain": [
              "set"
            ]
          },
          "execution_count": 142,
          "metadata": {},
          "output_type": "execute_result"
        }
      ],
      "source": [
        "my_set = {1, 2, 3, 4, 5, 6}\n",
        "type(my_set)"
      ]
    },
    {
      "cell_type": "code",
      "execution_count": null,
      "metadata": {
        "id": "WUYVYzh2ZWRt",
        "outputId": "940d2199-75ba-428f-cf02-4c576c1f0251"
      },
      "outputs": [
        {
          "name": "stdout",
          "output_type": "stream",
          "text": [
            "{1, 2, 3, 4, 5, 6}\n"
          ]
        },
        {
          "data": {
            "text/plain": [
              "set"
            ]
          },
          "execution_count": 143,
          "metadata": {},
          "output_type": "execute_result"
        }
      ],
      "source": [
        "my_set = set([1, 1, 1, 2, 3, 3, 3, 4, 5, 6])\n",
        "print(my_set)\n",
        "type(my_set)"
      ]
    },
    {
      "cell_type": "markdown",
      "metadata": {
        "id": "LGC58SZbZWRt"
      },
      "source": [
        "#### Add and remove values from set"
      ]
    },
    {
      "cell_type": "code",
      "execution_count": null,
      "metadata": {
        "id": "tiOGfOwIZWRu",
        "outputId": "a30d1f2d-a95a-46a7-b8cd-e571f2e86237"
      },
      "outputs": [
        {
          "data": {
            "text/plain": [
              "{1, 2, 3, 4, 5, 6, 8}"
            ]
          },
          "execution_count": 144,
          "metadata": {},
          "output_type": "execute_result"
        }
      ],
      "source": [
        "my_set = {1, 2, 3, 4, 5, 6}\n",
        "my_set.add(8)\n",
        "my_set"
      ]
    },
    {
      "cell_type": "code",
      "execution_count": null,
      "metadata": {
        "id": "tbI7HseCZWRu",
        "outputId": "50c04a69-db17-43d4-d3e8-bcd7d610776c"
      },
      "outputs": [
        {
          "data": {
            "text/plain": [
              "{1, 2, 4, 5, 6}"
            ]
          },
          "execution_count": 145,
          "metadata": {},
          "output_type": "execute_result"
        }
      ],
      "source": [
        "my_set = {1, 2, 3, 4, 5, 6}\n",
        "my_set.remove(3)\n",
        "my_set"
      ]
    },
    {
      "cell_type": "markdown",
      "metadata": {
        "id": "Xp5CxmLMZWRu"
      },
      "source": [
        "#### Set operations: Union"
      ]
    },
    {
      "cell_type": "code",
      "execution_count": null,
      "metadata": {
        "id": "G_TZlCJwZWRu",
        "outputId": "28d4f8b6-5b24-4cea-82b3-1a609cac84e2"
      },
      "outputs": [
        {
          "name": "stdout",
          "output_type": "stream",
          "text": [
            "{1, 2, 3, 4, 5, 6, 7, 8, 9, 10, 11, 12, 13, 14, 15, 16}\n",
            "{1, 2, 3, 4, 5, 6, 7, 8, 9, 10, 11, 12, 13, 14, 15, 16}\n"
          ]
        }
      ],
      "source": [
        "A = {1, 2, 3, 4, 5, 6, 7, 8, 9, 10}\n",
        "B = {7, 8, 9, 10, 11, 12, 13, 14, 15, 16}\n",
        "\n",
        "print(A | B)\n",
        "print(A.union(B))"
      ]
    },
    {
      "cell_type": "markdown",
      "metadata": {
        "id": "vSESDTdZZWRu"
      },
      "source": [
        "#### Intersection"
      ]
    },
    {
      "cell_type": "code",
      "execution_count": null,
      "metadata": {
        "id": "7AGYhnTHZWRu",
        "outputId": "16ed590b-0f02-4322-840c-88bb7464eea6"
      },
      "outputs": [
        {
          "name": "stdout",
          "output_type": "stream",
          "text": [
            "{8, 9, 10, 7}\n",
            "{8, 9, 10, 7}\n",
            "{8, 9, 10, 7}\n",
            "{8, 9, 10, 7}\n"
          ]
        }
      ],
      "source": [
        "A = {1, 2, 3, 4, 5, 6, 7, 8, 9, 10}\n",
        "B = {7, 8, 9, 10, 11, 12, 13, 14, 15, 16}\n",
        "\n",
        "print(A & B)\n",
        "print(A.intersection(B))\n",
        "print(B & A)\n",
        "print(B.intersection(A))"
      ]
    },
    {
      "cell_type": "markdown",
      "metadata": {
        "id": "otXjPp-sZWRu"
      },
      "source": [
        "#### Difference"
      ]
    },
    {
      "cell_type": "code",
      "execution_count": null,
      "metadata": {
        "id": "FvnPYtWwZWRu",
        "outputId": "3298f5ec-2733-4632-e81d-90470ed8bc98"
      },
      "outputs": [
        {
          "name": "stdout",
          "output_type": "stream",
          "text": [
            "{1, 2, 3, 4, 5, 6}\n",
            "{1, 2, 3, 4, 5, 6}\n"
          ]
        }
      ],
      "source": [
        "A = {1, 2, 3, 4, 5, 6, 7, 8, 9, 10}\n",
        "B = {7, 8, 9, 10, 11, 12, 13, 14, 15, 16}\n",
        "\n",
        "print(A - B)\n",
        "print(A.difference(B))"
      ]
    },
    {
      "cell_type": "markdown",
      "metadata": {
        "id": "V7R0vuhKZWRu"
      },
      "source": [
        "#### Symmetric Difference"
      ]
    },
    {
      "cell_type": "code",
      "execution_count": null,
      "metadata": {
        "id": "RIOYMVpoZWRv",
        "outputId": "77c7e8f7-d076-4446-d7e6-5d850d52ccb6"
      },
      "outputs": [
        {
          "name": "stdout",
          "output_type": "stream",
          "text": [
            "{1, 2, 3, 4, 5, 6, 11, 12, 13, 14, 15, 16}\n",
            "{1, 2, 3, 4, 5, 6, 11, 12, 13, 14, 15, 16}\n"
          ]
        }
      ],
      "source": [
        "A = {1, 2, 3, 4, 5, 6, 7, 8, 9, 10}\n",
        "B = {7, 8, 9, 10, 11, 12, 13, 14, 15, 16}\n",
        "\n",
        "print(A ^ B)\n",
        "print(A.symmetric_difference(B))"
      ]
    },
    {
      "cell_type": "markdown",
      "metadata": {
        "id": "GqjeGGYmZWRv"
      },
      "source": [
        "#### Other sets operations"
      ]
    },
    {
      "cell_type": "code",
      "execution_count": null,
      "metadata": {
        "id": "ayxndr6fZWRv",
        "outputId": "c2dac8b8-200f-4e35-bfd7-9dc35bd93633"
      },
      "outputs": [
        {
          "name": "stdout",
          "output_type": "stream",
          "text": [
            "True\n",
            "False\n"
          ]
        }
      ],
      "source": [
        "A = {1, 2, 3, 4, 5, 6, 7, 8, 9, 10}\n",
        "\n",
        "print({3, 4, 10}.issubset(A))\n",
        "print({3, 4, 100}.issubset(A))"
      ]
    },
    {
      "cell_type": "code",
      "execution_count": null,
      "metadata": {
        "id": "R2Kc5v1wZWRv",
        "outputId": "695cdd8c-e8d0-4c61-a4c7-cd5feabf2ec3"
      },
      "outputs": [
        {
          "data": {
            "text/plain": [
              "True"
            ]
          },
          "execution_count": 151,
          "metadata": {},
          "output_type": "execute_result"
        }
      ],
      "source": [
        "A = {1, 2, 3, 4, 5, 6, 7, 8, 9, 10}\n",
        "B = {11, 12, 13, 14, 15, 16}\n",
        "\n",
        "A.isdisjoint(B)"
      ]
    },
    {
      "cell_type": "code",
      "execution_count": null,
      "metadata": {
        "id": "2LD5u9fWZWRv",
        "outputId": "079982f0-bbc4-49a0-f43d-ce6386d674ee"
      },
      "outputs": [
        {
          "name": "stdout",
          "output_type": "stream",
          "text": [
            "True\n",
            "False\n",
            "True\n"
          ]
        }
      ],
      "source": [
        "A = {1, 2, 3, 4, 5}\n",
        "B = {1, 2, 3}\n",
        "C = {1, 2, 3}\n",
        "\n",
        "print(A.issuperset(B))\n",
        "print(B.issuperset(A))\n",
        "print(C.issuperset(B))"
      ]
    },
    {
      "cell_type": "markdown",
      "metadata": {
        "id": "BwTjwwYOZWRv"
      },
      "source": [
        "## 1.4. Conditional statements: if/elif/else"
      ]
    },
    {
      "cell_type": "code",
      "execution_count": null,
      "metadata": {
        "id": "oXuEFoMzZWRv",
        "outputId": "27a48e7a-c517-472c-a513-4f30899d8431"
      },
      "outputs": [
        {
          "name": "stdout",
          "output_type": "stream",
          "text": [
            "You are of legal age and you are at an age to be able to work\n"
          ]
        }
      ],
      "source": [
        "age = 25\n",
        "\n",
        "if age < 18:\n",
        "    print(\"You cannot work because you are a minor\")\n",
        "else:\n",
        "    if age >= 18 and age <= 60:\n",
        "        print(\"You are of legal age and you are at an age to be able to work\")\n",
        "    elif age > 60 and age <= 120:\n",
        "        print(\" You are too old to work as per the Government rules\")\n",
        "    else:\n",
        "        print(\"Either you're a liar or maybe you're immortal\")"
      ]
    },
    {
      "cell_type": "markdown",
      "metadata": {
        "id": "0QyFpsxxZWRv"
      },
      "source": [
        "## 1.5. Loop with: while, for"
      ]
    },
    {
      "cell_type": "markdown",
      "metadata": {
        "id": "RbVaGASYZWRv"
      },
      "source": [
        "### While"
      ]
    },
    {
      "cell_type": "code",
      "execution_count": null,
      "metadata": {
        "id": "03nOtq0yZWRw",
        "outputId": "a0cbd8f3-7f05-4848-c484-6a9f0e2a6969"
      },
      "outputs": [
        {
          "name": "stdout",
          "output_type": "stream",
          "text": [
            "1\n",
            "2\n",
            "3\n",
            "4\n",
            "5\n",
            "6\n",
            "7\n",
            "8\n",
            "9\n"
          ]
        }
      ],
      "source": [
        "i = 1\n",
        "\n",
        "while i < 10:\n",
        "    print(i)\n",
        "    i += 1"
      ]
    },
    {
      "cell_type": "markdown",
      "metadata": {
        "id": "ce4fB2SSZWRw"
      },
      "source": [
        "#### Break"
      ]
    },
    {
      "cell_type": "code",
      "execution_count": null,
      "metadata": {
        "id": "J6mN5ltvZWRw",
        "outputId": "74e16aec-0f55-4cb8-8216-9d0b21c0e811"
      },
      "outputs": [
        {
          "name": "stdout",
          "output_type": "stream",
          "text": [
            "1\n",
            "2\n",
            "3\n",
            "4\n",
            "5\n",
            "6\n",
            "7\n"
          ]
        }
      ],
      "source": [
        "i = 1\n",
        "while i < 10:\n",
        "    print(i)\n",
        "    if i == 7:\n",
        "        break\n",
        "    i += 1"
      ]
    },
    {
      "cell_type": "markdown",
      "metadata": {
        "id": "K4xTrSHcZWRw"
      },
      "source": [
        "#### Continue"
      ]
    },
    {
      "cell_type": "code",
      "execution_count": null,
      "metadata": {
        "id": "o1Hu6JsOZWRw",
        "outputId": "ad7458fe-1147-45e4-82a0-c5b549ae8ab0"
      },
      "outputs": [
        {
          "name": "stdout",
          "output_type": "stream",
          "text": [
            "2\n",
            "3\n",
            "4\n",
            "5\n",
            "6\n",
            "8\n",
            "9\n",
            "10\n"
          ]
        }
      ],
      "source": [
        "i = 1\n",
        "while i < 10:\n",
        "    i += 1\n",
        "    if i == 7:\n",
        "        continue\n",
        "    print(i)"
      ]
    },
    {
      "cell_type": "code",
      "execution_count": null,
      "metadata": {
        "id": "InBB0ROLZWRw"
      },
      "outputs": [],
      "source": [
        "# while True:\n",
        "#     print(\"I'm killing my machine\")"
      ]
    },
    {
      "cell_type": "markdown",
      "metadata": {
        "id": "ykNMpnlYZWRw"
      },
      "source": [
        "### For"
      ]
    },
    {
      "cell_type": "code",
      "execution_count": null,
      "metadata": {
        "id": "pMazJMK0ZWRw",
        "outputId": "fad34b32-5f74-4082-8db8-7173837c2cc0"
      },
      "outputs": [
        {
          "name": "stdout",
          "output_type": "stream",
          "text": [
            "Ferrari\n",
            "Mercedes\n",
            "Red Bull\n",
            "Aston Martin\n",
            "Alpha Tauri\n",
            "McLaren\n"
          ]
        }
      ],
      "source": [
        "teams = [\"Ferrari\", \"Mercedes\", \"Red Bull\", \"Aston Martin\", \"Alpha Tauri\", \"McLaren\"]\n",
        "\n",
        "for x in teams:\n",
        "    print(x)"
      ]
    },
    {
      "cell_type": "code",
      "execution_count": null,
      "metadata": {
        "id": "hfwOWrbwZWRw",
        "outputId": "d8c2ce08-141a-4b36-9b9c-a00d402021fb"
      },
      "outputs": [
        {
          "name": "stdout",
          "output_type": "stream",
          "text": [
            "0\n",
            "1\n",
            "2\n",
            "3\n",
            "4\n",
            "5\n",
            "6\n",
            "7\n",
            "8\n",
            "9\n"
          ]
        }
      ],
      "source": [
        "for i in range(10):\n",
        "    print(i)"
      ]
    },
    {
      "cell_type": "code",
      "execution_count": null,
      "metadata": {
        "id": "kCBm0m9mZWRx",
        "outputId": "c4144574-abb8-40f5-96bd-45d30756acee"
      },
      "outputs": [
        {
          "name": "stdout",
          "output_type": "stream",
          "text": [
            "0\n",
            "1\n",
            "2\n",
            "3\n",
            "4\n",
            "5\n"
          ]
        }
      ],
      "source": [
        "teams = [\"Ferrari\", \"Mercedes\", \"Red Bull\", \"Aston Martin\", \"Alpha Tauri\", \"McLaren\"]\n",
        "\n",
        "for x in range(len(teams)):\n",
        "    print(x)"
      ]
    },
    {
      "cell_type": "code",
      "execution_count": null,
      "metadata": {
        "id": "WElmpPWZZWRx",
        "outputId": "2c59ff69-1bb0-4c6b-8c7c-c9c4ba5eb3e8"
      },
      "outputs": [
        {
          "name": "stdout",
          "output_type": "stream",
          "text": [
            "* \n",
            "* * \n",
            "* * * \n",
            "* * * * \n",
            "* * * * * \n",
            "* * * * * * \n",
            "* * * * * * * \n",
            "* * * * * * * * \n",
            "* * * * * * * * * \n",
            "* * * * * * * * * * \n",
            "* * * * * * * * * * * \n",
            "* * * * * * * * * * * * \n",
            "* * * * * * * * * * * * * \n",
            "* * * * * * * * * * * * * * \n",
            "* * * * * * * * * * * * * * * \n"
          ]
        }
      ],
      "source": [
        "rows = 15\n",
        "for i in range(1, rows + 1):\n",
        "    for j in range(1, i + 1):\n",
        "        print('*', end=' ')\n",
        "    print()"
      ]
    },
    {
      "cell_type": "markdown",
      "metadata": {
        "id": "uXAxsD-fZWRx"
      },
      "source": [
        "## 1.6. Functions"
      ]
    },
    {
      "cell_type": "code",
      "execution_count": null,
      "metadata": {
        "id": "_VYFei26ZggH"
      },
      "outputs": [],
      "source": [
        "def my_function(a):\n",
        "    a = a + 10\n",
        "\n",
        "    return a\n"
      ]
    },
    {
      "cell_type": "code",
      "execution_count": null,
      "metadata": {
        "id": "D75A8cckZggH",
        "outputId": "915be6ad-7300-4119-f37a-090125e79e1a"
      },
      "outputs": [
        {
          "data": {
            "text/plain": [
              "15"
            ]
          },
          "execution_count": 6,
          "metadata": {},
          "output_type": "execute_result"
        }
      ],
      "source": [
        "my_function(5)"
      ]
    },
    {
      "cell_type": "code",
      "execution_count": null,
      "metadata": {
        "id": "6FT_HGcgZWRx",
        "outputId": "a33847ac-fea9-47db-8e28-fcb0a6e2bb17"
      },
      "outputs": [
        {
          "name": "stdout",
          "output_type": "stream",
          "text": [
            "Hi, Martin, I hope you have a good day!\n"
          ]
        }
      ],
      "source": [
        "def say_hi(x):\n",
        "    '''\n",
        "        The following function has to receive a string as a parameter\n",
        "         and returns a greeting to the value that has been entered\n",
        "         To use it, call the greet function and pass a string as a parameter\n",
        "             - greet ('here goes the string')\n",
        "    '''\n",
        "    print(f\"Hi, {x}, I hope you have a good day!\")\n",
        "\n",
        "say_hi('Martin')"
      ]
    },
    {
      "cell_type": "markdown",
      "metadata": {
        "id": "kvltMt2pZWRx"
      },
      "source": [
        "### Function documentation"
      ]
    },
    {
      "cell_type": "code",
      "execution_count": null,
      "metadata": {
        "id": "EdYetUe9ZWRx",
        "outputId": "57831cd7-b727-4511-8b64-af3e5143999f",
        "scrolled": true
      },
      "outputs": [
        {
          "name": "stdout",
          "output_type": "stream",
          "text": [
            "Help on function say_hi in module __main__:\n",
            "\n",
            "say_hi(x)\n",
            "    The following function has to receive a string as a parameter\n",
            "     and returns a greeting to the value that has been entered\n",
            "     To use it, call the greet function and pass a string as a parameter\n",
            "         - greet ('here goes the string')\n",
            "\n"
          ]
        }
      ],
      "source": [
        "help(say_hi)"
      ]
    },
    {
      "cell_type": "code",
      "execution_count": null,
      "metadata": {
        "id": "6SkfW1ekZWRx",
        "outputId": "a01bc0f1-1be4-406c-cad2-099692bac302"
      },
      "outputs": [
        {
          "data": {
            "text/plain": [
              "False"
            ]
          },
          "execution_count": 164,
          "metadata": {},
          "output_type": "execute_result"
        }
      ],
      "source": [
        "def is_prime(number=10): # argument with default value\n",
        "    if number < 2:\n",
        "        return False\n",
        "    for i in range(2, number):\n",
        "        if number % i == 0:\n",
        "            return False\n",
        "    return True\n",
        "\n",
        "is_prime(15)"
      ]
    },
    {
      "cell_type": "code",
      "execution_count": null,
      "metadata": {
        "id": "uTl8aczvZWRx",
        "outputId": "35d2988c-b15e-43d1-da81-6c961cbcb1b9"
      },
      "outputs": [
        {
          "data": {
            "text/plain": [
              "True"
            ]
          },
          "execution_count": 165,
          "metadata": {},
          "output_type": "execute_result"
        }
      ],
      "source": [
        "is_prime(7)"
      ]
    },
    {
      "cell_type": "code",
      "execution_count": null,
      "metadata": {
        "id": "a6XtQlR8ZWRy",
        "outputId": "6ea8ebfc-9f06-4d4f-e310-0ddb71691d8f"
      },
      "outputs": [
        {
          "data": {
            "text/plain": [
              "False"
            ]
          },
          "execution_count": 166,
          "metadata": {},
          "output_type": "execute_result"
        }
      ],
      "source": [
        "is_prime() # Calling is_prime() with default argument"
      ]
    },
    {
      "cell_type": "code",
      "source": [],
      "metadata": {
        "id": "5m5Vplw5ad9z"
      },
      "execution_count": null,
      "outputs": []
    }
  ],
  "metadata": {
    "colab": {
      "provenance": [],
      "collapsed_sections": [
        "iwkF3faFZWRj",
        "sXs6oyTtZWRj",
        "EioV3vEEZWRk",
        "Jv226V6IZWRl",
        "C2r2uMypZWRl",
        "GkuMjwkaZWRl",
        "opsolMw0ZWRn",
        "YtJ4lIzYZWRn",
        "UMB0qKk3ZWRn",
        "kS1E2WHVZWRn",
        "Vz7oDeotZWRn",
        "ljuHgr2qZWRn",
        "Qx_ET1ekZWRo",
        "AgZC-pFHZWRo",
        "UykqBADYZWRo",
        "yPRZiLuWZWRo",
        "2uU2KygUZWRp",
        "0hg4WI8fZWRp",
        "7wpsle_gZWRp",
        "vFrhIRQgZWRq",
        "tP2oDgkeZWRq",
        "vekqsmp8ZWRq",
        "CXJ6aC4TZWRr",
        "8dima5neZWRr",
        "Aq_J6fhPZWRr",
        "UPfxNKyuZWRr",
        "y_GkcN_SZWRs",
        "NKK8j4RAZWRs",
        "ioieuytnZWRs",
        "E16iUywmZWRs",
        "pW12jr2KZWRt",
        "oPAiugpaZWRt",
        "VbPUkQn4ZWRt",
        "LGC58SZbZWRt",
        "Xp5CxmLMZWRu",
        "vSESDTdZZWRu",
        "otXjPp-sZWRu",
        "V7R0vuhKZWRu",
        "GqjeGGYmZWRv",
        "BwTjwwYOZWRv",
        "0QyFpsxxZWRv",
        "RbVaGASYZWRv",
        "ce4fB2SSZWRw",
        "K4xTrSHcZWRw",
        "ykNMpnlYZWRw"
      ],
      "include_colab_link": true
    },
    "kernelspec": {
      "display_name": "Python 3 (ipykernel)",
      "language": "python",
      "name": "python3"
    },
    "language_info": {
      "codemirror_mode": {
        "name": "ipython",
        "version": 3
      },
      "file_extension": ".py",
      "mimetype": "text/x-python",
      "name": "python",
      "nbconvert_exporter": "python",
      "pygments_lexer": "ipython3",
      "version": "3.9.7"
    }
  },
  "nbformat": 4,
  "nbformat_minor": 0
}