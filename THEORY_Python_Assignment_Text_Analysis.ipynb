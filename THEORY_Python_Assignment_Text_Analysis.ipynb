{
  "nbformat": 4,
  "nbformat_minor": 0,
  "metadata": {
    "colab": {
      "provenance": [],
      "include_colab_link": true
    },
    "kernelspec": {
      "name": "python3",
      "display_name": "Python 3"
    },
    "language_info": {
      "name": "python"
    }
  },
  "cells": [
    {
      "cell_type": "markdown",
      "metadata": {
        "id": "view-in-github",
        "colab_type": "text"
      },
      "source": [
        "<a href=\"https://colab.research.google.com/github/ivaniseda/ML-dev/blob/main/THEORY_Python_Assignment_Text_Analysis.ipynb\" target=\"_parent\"><img src=\"https://colab.research.google.com/assets/colab-badge.svg\" alt=\"Open In Colab\"/></a>"
      ]
    },
    {
      "cell_type": "code",
      "execution_count": null,
      "metadata": {
        "colab": {
          "base_uri": "https://localhost:8080/"
        },
        "id": "9L7CnU3KjCUe",
        "outputId": "5fd56182-3176-4ce1-9936-fd93a1d4ff68"
      },
      "outputs": [
        {
          "output_type": "stream",
          "name": "stdout",
          "text": [
            "Downloading...\n",
            "From: https://drive.google.com/uc?id=1UOF-7R5MHXTQcCPp7rPMZTFZZSCmKzko\n",
            "To: /content/registered-names-1922-2015.csv\n",
            "100% 221M/221M [00:02<00:00, 81.0MB/s]\n"
          ]
        }
      ],
      "source": [
        "!gdown 1UOF-7R5MHXTQcCPp7rPMZTFZZSCmKzko"
      ]
    },
    {
      "cell_type": "code",
      "source": [
        "import csv"
      ],
      "metadata": {
        "id": "jIY848NKjFoa"
      },
      "execution_count": null,
      "outputs": []
    },
    {
      "cell_type": "code",
      "source": [
        "with open(\"/content/registered-names-1922-2015.csv\") as csvfile:\n",
        "    reader = csv.DictReader(csvfile)\n",
        "\n",
        "    count = 10\n",
        "    for idx, row in enumerate(reader):\n",
        "        print(row)\n",
        "        if idx == count:\n",
        "            break\n"
      ],
      "metadata": {
        "colab": {
          "base_uri": "https://localhost:8080/"
        },
        "id": "ld7XbhH3jFlg",
        "outputId": "338a8610-dfe8-4604-d215-694e75d96fcc"
      },
      "execution_count": null,
      "outputs": [
        {
          "output_type": "stream",
          "name": "stdout",
          "text": [
            "{'name': 'Maria', 'count': '314', 'year': '1922'}\n",
            "{'name': 'Rosa', 'count': '203', 'year': '1922'}\n",
            "{'name': 'Jose', 'count': '163', 'year': '1922'}\n",
            "{'name': 'Maria Luisa', 'count': '127', 'year': '1922'}\n",
            "{'name': 'Carmen', 'count': '117', 'year': '1922'}\n",
            "{'name': 'Ana', 'count': '113', 'year': '1922'}\n",
            "{'name': 'Maria Elena', 'count': '112', 'year': '1922'}\n",
            "{'name': 'Juana', 'count': '111', 'year': '1922'}\n",
            "{'name': 'Maria Esther', 'count': '109', 'year': '1922'}\n",
            "{'name': 'Antonio', 'count': '103', 'year': '1922'}\n",
            "{'name': 'Elena', 'count': '102', 'year': '1922'}\n"
          ]
        }
      ]
    },
    {
      "cell_type": "code",
      "source": [
        "import csv\n",
        "\n",
        "# Load the dataset\n",
        "with open(\"/content/registered-names-1922-2015.csv\") as csvfile:\n",
        "    reader = csv.DictReader(csvfile)\n",
        "\n",
        "    # Initialize variables\n",
        "    yearly_counts = {}\n",
        "    shortest_name = None\n",
        "    longest_name = None\n",
        "    palindrome_name = None\n",
        "    most_registered_name = None\n",
        "    max_count = 0\n",
        "\n",
        "    # Analyze the dataset\n",
        "    for row in reader:\n",
        "        # Count registrations per year\n",
        "        year = row['year']\n",
        "        count = int(row['count'])\n",
        "        yearly_counts[year] = yearly_counts.get(year, 0) + count\n",
        "\n",
        "        # Find the shortest and longest names\n",
        "        name = row['name']\n",
        "        if shortest_name is None or len(name) < len(shortest_name):\n",
        "            shortest_name = name\n",
        "        if longest_name is None or len(name) > len(longest_name):\n",
        "            longest_name = name\n",
        "\n",
        "        # Check for palindrome names\n",
        "        if name == name[::-1] and palindrome_name is None:\n",
        "            palindrome_name = name\n",
        "\n",
        "        # Find the name with the largest number of registrations\n",
        "        if count > max_count:\n",
        "            max_count = count\n",
        "            most_registered_name = name\n",
        "\n",
        "# Output the results\n",
        "print(\"Yearly Registrations:\", yearly_counts)\n",
        "print(\"Shortest Name:\", shortest_name)\n",
        "print(\"Longest Name:\", longest_name)\n",
        "print(\"Palindrome Name:\", palindrome_name)\n",
        "print(\"Most Registered Name:\", most_registered_name)\n"
      ],
      "metadata": {
        "id": "XhdnEhC3svK2"
      },
      "execution_count": null,
      "outputs": []
    },
    {
      "cell_type": "code",
      "source": [],
      "metadata": {
        "id": "chz1PTwLicvl"
      },
      "execution_count": null,
      "outputs": []
    }
  ]
}